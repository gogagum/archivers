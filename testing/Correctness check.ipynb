{
 "cells": [
  {
   "cell_type": "code",
   "execution_count": 1,
   "id": "9918bb2e",
   "metadata": {},
   "outputs": [],
   "source": [
    "from os import listdir, makedirs, stat\n",
    "from os.path import isfile, join, exists\n",
    "import subprocess"
   ]
  },
  {
   "cell_type": "code",
   "execution_count": 4,
   "id": "ae8b3072",
   "metadata": {},
   "outputs": [],
   "source": [
    "test_file_names = sorted([f for f in listdir(\"dataset\") if isfile(join(\"dataset\", f))])"
   ]
  },
  {
   "cell_type": "code",
   "execution_count": 5,
   "id": "8d2f0038",
   "metadata": {},
   "outputs": [
    {
     "name": "stdout",
     "output_type": "stream",
     "text": [
      "['bib', 'book1', 'book2', 'geo', 'news', 'obj1', 'obj2', 'paper1', 'paper2', 'pic', 'progc', 'progl', 'progp', 'trans']\n"
     ]
    }
   ],
   "source": [
    "print(test_file_names)"
   ]
  },
  {
   "cell_type": "code",
   "execution_count": 9,
   "id": "e85d2f93",
   "metadata": {},
   "outputs": [],
   "source": [
    "def do_tests(executable: str, inDir: str, filenames: list, outDir: str, numThreads: int):\n",
    "    assert(inDir != outDir)\n",
    "    if not exists(outDir):\n",
    "        makedirs(outDir)\n",
    "    procs = []\n",
    "        \n",
    "    numRuns = (len(filenames) - 1) // numThreads + 1\n",
    "        \n",
    "    for runI in range(numRuns):\n",
    "        lowI = numThreads * runI\n",
    "        highI = min(len(filenames), numThreads * (runI + 1))\n",
    "        print(\"Process files: \", *filenames[lowI:highI])\n",
    "        for filename in filenames[lowI:highI]:\n",
    "            inFile = inDir + \"/\" + filename\n",
    "            outFile = outDir + \"/\" + filename\n",
    "            print(\"In file: {}. \\t Out file: {}\".format(inFile, outFile))\n",
    "            procs.append(subprocess.Popen([executable, inFile, outFile]))\n",
    "        for p in procs:\n",
    "            p.wait()"
   ]
  },
  {
   "cell_type": "markdown",
   "id": "ac1a43e7",
   "metadata": {},
   "source": [
    "Заархивируем:"
   ]
  },
  {
   "cell_type": "code",
   "execution_count": 11,
   "id": "a07307d7",
   "metadata": {},
   "outputs": [
    {
     "name": "stdout",
     "output_type": "stream",
     "text": [
      "Process files:  bib book1 book2 geo news obj1 obj2\n",
      "In file: dataset//bib. \t Out file: correctness-out/contextual-d/bib\n",
      "In file: dataset//book1. \t Out file: correctness-out/contextual-d/book1\n",
      "In file: dataset//book2. \t Out file: correctness-out/contextual-d/book2\n",
      "In file: dataset//geo. \t Out file: correctness-out/contextual-d/geo\n",
      "In file: dataset//news. \t Out file: correctness-out/contextual-d/news\n",
      "In file: dataset//obj1. \t Out file: correctness-out/contextual-d/obj1\n",
      "In file: dataset//obj2. \t Out file: correctness-out/contextual-d/obj2\n",
      "Process files:  paper1 paper2 pic progc progl progp trans\n",
      "In file: dataset//paper1. \t Out file: correctness-out/contextual-d/paper1\n",
      "In file: dataset//paper2. \t Out file: correctness-out/contextual-d/paper2\n",
      "In file: dataset//pic. \t Out file: correctness-out/contextual-d/pic\n",
      "In file: dataset//progc. \t Out file: correctness-out/contextual-d/progc\n",
      "In file: dataset//progl. \t Out file: correctness-out/contextual-d/progl\n",
      "In file: dataset//progp. \t Out file: correctness-out/contextual-d/progp\n",
      "In file: dataset//trans. \t Out file: correctness-out/contextual-d/trans\n",
      "Process files:  bib book1 book2 geo news obj1 obj2\n",
      "In file: dataset//bib. \t Out file: correctness-out/contextual-d-improved/bib\n",
      "In file: dataset//book1. \t Out file: correctness-out/contextual-d-improved/book1\n",
      "In file: dataset//book2. \t Out file: correctness-out/contextual-d-improved/book2\n",
      "In file: dataset//geo. \t Out file: correctness-out/contextual-d-improved/geo\n",
      "In file: dataset//news. \t Out file: correctness-out/contextual-d-improved/news\n",
      "In file: dataset//obj1. \t Out file: correctness-out/contextual-d-improved/obj1\n",
      "In file: dataset//obj2. \t Out file: correctness-out/contextual-d-improved/obj2\n",
      "Process files:  paper1 paper2 pic progc progl progp trans\n",
      "In file: dataset//paper1. \t Out file: correctness-out/contextual-d-improved/paper1\n",
      "In file: dataset//paper2. \t Out file: correctness-out/contextual-d-improved/paper2\n",
      "In file: dataset//pic. \t Out file: correctness-out/contextual-d-improved/pic\n",
      "In file: dataset//progc. \t Out file: correctness-out/contextual-d-improved/progc\n",
      "In file: dataset//progl. \t Out file: correctness-out/contextual-d-improved/progl\n",
      "In file: dataset//progp. \t Out file: correctness-out/contextual-d-improved/progp\n",
      "In file: dataset//trans. \t Out file: correctness-out/contextual-d-improved/trans\n",
      "Process files:  bib book1 book2 geo news obj1 obj2\n",
      "In file: dataset//bib. \t Out file: correctness-out/numerical/bib\n",
      "In file: dataset//book1. \t Out file: correctness-out/numerical/book1\n",
      "In file: dataset//book2. \t Out file: correctness-out/numerical/book2\n",
      "In file: dataset//geo. \t Out file: correctness-out/numerical/geo\n",
      "In file: dataset//news. \t Out file: correctness-out/numerical/news\n",
      "In file: dataset//obj1. \t Out file: correctness-out/numerical/obj1\n",
      "In file: dataset//obj2. \t Out file: correctness-out/numerical/obj2\n",
      "Process files:  paper1 paper2 pic progc progl progp trans\n",
      "In file: dataset//paper1. \t Out file: correctness-out/numerical/paper1\n",
      "In file: dataset//paper2. \t Out file: correctness-out/numerical/paper2\n",
      "In file: dataset//pic. \t Out file: correctness-out/numerical/pic\n",
      "In file: dataset//progc. \t Out file: correctness-out/numerical/progc\n",
      "In file: dataset//progl. \t Out file: correctness-out/numerical/progl\n",
      "In file: dataset//progp. \t Out file: correctness-out/numerical/progp\n",
      "In file: dataset//trans. \t Out file: correctness-out/numerical/trans\n"
     ]
    }
   ],
   "source": [
    "do_tests(executable=\"exe-handing-in/contextual_d_encoder1\",\n",
    "         inDir=\"dataset/\",\n",
    "         filenames=test_file_names,\n",
    "         outDir=\"correctness-out/contextual-d\",\n",
    "         numThreads=7)\n",
    "do_tests(executable=\"exe-handing-in/contextual_d_encoder_improved1\",\n",
    "         inDir=\"dataset/\",\n",
    "         filenames=test_file_names,\n",
    "         outDir=\"correctness-out/contextual-d-improved\",\n",
    "         numThreads=7)\n",
    "do_tests(executable=\"exe-handing-in/numerical_encoder1\",\n",
    "         inDir=\"dataset/\",\n",
    "         filenames=test_file_names,\n",
    "         outDir=\"correctness-out/numerical\",\n",
    "         numThreads=7)"
   ]
  },
  {
   "cell_type": "markdown",
   "id": "dc444a00",
   "metadata": {},
   "source": [
    "Разархивируем:"
   ]
  },
  {
   "cell_type": "code",
   "execution_count": 12,
   "id": "4a34a3d1",
   "metadata": {},
   "outputs": [
    {
     "name": "stdout",
     "output_type": "stream",
     "text": [
      "Process files:  bib book1 book2 geo news obj1 obj2\n",
      "In file: correctness-out/contextual-d//bib. \t Out file: correctness-out/contextual-d-decoded/bib\n",
      "In file: correctness-out/contextual-d//book1. \t Out file: correctness-out/contextual-d-decoded/book1\n",
      "In file: correctness-out/contextual-d//book2. \t Out file: correctness-out/contextual-d-decoded/book2\n",
      "In file: correctness-out/contextual-d//geo. \t Out file: correctness-out/contextual-d-decoded/geo\n",
      "In file: correctness-out/contextual-d//news. \t Out file: correctness-out/contextual-d-decoded/news\n",
      "In file: correctness-out/contextual-d//obj1. \t Out file: correctness-out/contextual-d-decoded/obj1\n",
      "In file: correctness-out/contextual-d//obj2. \t Out file: correctness-out/contextual-d-decoded/obj2\n",
      "Process files:  paper1 paper2 pic progc progl progp trans\n",
      "In file: correctness-out/contextual-d//paper1. \t Out file: correctness-out/contextual-d-decoded/paper1\n",
      "In file: correctness-out/contextual-d//paper2. \t Out file: correctness-out/contextual-d-decoded/paper2\n",
      "In file: correctness-out/contextual-d//pic. \t Out file: correctness-out/contextual-d-decoded/pic\n",
      "In file: correctness-out/contextual-d//progc. \t Out file: correctness-out/contextual-d-decoded/progc\n",
      "In file: correctness-out/contextual-d//progl. \t Out file: correctness-out/contextual-d-decoded/progl\n",
      "In file: correctness-out/contextual-d//progp. \t Out file: correctness-out/contextual-d-decoded/progp\n",
      "In file: correctness-out/contextual-d//trans. \t Out file: correctness-out/contextual-d-decoded/trans\n",
      "Process files:  bib book1 book2 geo news obj1 obj2\n",
      "In file: correctness-out/contextual-d-improved//bib. \t Out file: correctness-out/contextual-d-improved-decoded/bib\n",
      "In file: correctness-out/contextual-d-improved//book1. \t Out file: correctness-out/contextual-d-improved-decoded/book1\n",
      "In file: correctness-out/contextual-d-improved//book2. \t Out file: correctness-out/contextual-d-improved-decoded/book2\n",
      "In file: correctness-out/contextual-d-improved//geo. \t Out file: correctness-out/contextual-d-improved-decoded/geo\n",
      "In file: correctness-out/contextual-d-improved//news. \t Out file: correctness-out/contextual-d-improved-decoded/news\n",
      "In file: correctness-out/contextual-d-improved//obj1. \t Out file: correctness-out/contextual-d-improved-decoded/obj1\n",
      "In file: correctness-out/contextual-d-improved//obj2. \t Out file: correctness-out/contextual-d-improved-decoded/obj2\n",
      "Process files:  paper1 paper2 pic progc progl progp trans\n",
      "In file: correctness-out/contextual-d-improved//paper1. \t Out file: correctness-out/contextual-d-improved-decoded/paper1\n",
      "In file: correctness-out/contextual-d-improved//paper2. \t Out file: correctness-out/contextual-d-improved-decoded/paper2\n",
      "In file: correctness-out/contextual-d-improved//pic. \t Out file: correctness-out/contextual-d-improved-decoded/pic\n",
      "In file: correctness-out/contextual-d-improved//progc. \t Out file: correctness-out/contextual-d-improved-decoded/progc\n",
      "In file: correctness-out/contextual-d-improved//progl. \t Out file: correctness-out/contextual-d-improved-decoded/progl\n",
      "In file: correctness-out/contextual-d-improved//progp. \t Out file: correctness-out/contextual-d-improved-decoded/progp\n",
      "In file: correctness-out/contextual-d-improved//trans. \t Out file: correctness-out/contextual-d-improved-decoded/trans\n",
      "Process files:  bib book1 book2 geo news obj1 obj2\n",
      "In file: correctness-out/numerical//bib. \t Out file: correctness-out/numerical-decoded/bib\n",
      "In file: correctness-out/numerical//book1. \t Out file: correctness-out/numerical-decoded/book1\n",
      "In file: correctness-out/numerical//book2. \t Out file: correctness-out/numerical-decoded/book2\n",
      "In file: correctness-out/numerical//geo. \t Out file: correctness-out/numerical-decoded/geo\n",
      "In file: correctness-out/numerical//news. \t Out file: correctness-out/numerical-decoded/news\n",
      "In file: correctness-out/numerical//obj1. \t Out file: correctness-out/numerical-decoded/obj1\n",
      "In file: correctness-out/numerical//obj2. \t Out file: correctness-out/numerical-decoded/obj2\n",
      "Process files:  paper1 paper2 pic progc progl progp trans\n",
      "In file: correctness-out/numerical//paper1. \t Out file: correctness-out/numerical-decoded/paper1\n",
      "In file: correctness-out/numerical//paper2. \t Out file: correctness-out/numerical-decoded/paper2\n",
      "In file: correctness-out/numerical//pic. \t Out file: correctness-out/numerical-decoded/pic\n",
      "In file: correctness-out/numerical//progc. \t Out file: correctness-out/numerical-decoded/progc\n",
      "In file: correctness-out/numerical//progl. \t Out file: correctness-out/numerical-decoded/progl\n",
      "In file: correctness-out/numerical//progp. \t Out file: correctness-out/numerical-decoded/progp\n",
      "In file: correctness-out/numerical//trans. \t Out file: correctness-out/numerical-decoded/trans\n"
     ]
    }
   ],
   "source": [
    "do_tests(executable=\"exe-handing-in/contextual_d_decoder1\",\n",
    "         inDir=\"correctness-out/contextual-d/\",\n",
    "         filenames=test_file_names,\n",
    "         outDir=\"correctness-out/contextual-d-decoded\",\n",
    "         numThreads=7)\n",
    "do_tests(executable=\"exe-handing-in/contextual_d_decoder_improved1\",\n",
    "         inDir=\"correctness-out/contextual-d-improved/\",\n",
    "         filenames=test_file_names,\n",
    "         outDir=\"correctness-out/contextual-d-improved-decoded\",\n",
    "         numThreads=7)\n",
    "do_tests(executable=\"exe-handing-in/numerical_decoder1\",\n",
    "         inDir=\"correctness-out/numerical/\",\n",
    "         filenames=test_file_names,\n",
    "         outDir=\"correctness-out/numerical-decoded\",\n",
    "         numThreads=7)"
   ]
  },
  {
   "cell_type": "code",
   "execution_count": 17,
   "id": "4b5c7fbb",
   "metadata": {},
   "outputs": [],
   "source": [
    "import filecmp"
   ]
  },
  {
   "cell_type": "markdown",
   "id": "03000743",
   "metadata": {},
   "source": [
    "Попробуем проверить, что файлы архива не совпадают с исходными:"
   ]
  },
  {
   "cell_type": "code",
   "execution_count": 23,
   "id": "c548de2c",
   "metadata": {},
   "outputs": [
    {
     "name": "stdout",
     "output_type": "stream",
     "text": [
      "diff dataset/ correctness-out/contextual-d/\n",
      "Differing files : ['bib', 'book1', 'book2', 'geo', 'news', 'obj1', 'obj2', 'paper1', 'paper2', 'pic', 'progc', 'progl', 'progp', 'trans']\n",
      "None\n"
     ]
    }
   ],
   "source": [
    "c = filecmp.dircmp(\"dataset/\", \"correctness-out/contextual-d/\")\n",
    "print(c.report())"
   ]
  },
  {
   "cell_type": "markdown",
   "id": "a7772a9f",
   "metadata": {},
   "source": [
    "Проверим, что всё правильно разархивировалось:"
   ]
  },
  {
   "cell_type": "code",
   "execution_count": 24,
   "id": "3c9dce52",
   "metadata": {},
   "outputs": [
    {
     "name": "stdout",
     "output_type": "stream",
     "text": [
      "diff dataset/ correctness-out/contextual-d-decoded/\n",
      "Identical files : ['bib', 'book1', 'book2', 'geo', 'news', 'obj1', 'obj2', 'paper1', 'paper2', 'pic', 'progc', 'progl', 'progp', 'trans']\n"
     ]
    }
   ],
   "source": [
    "filecmp.dircmp(\"dataset/\", \"correctness-out/contextual-d-decoded/\").report()"
   ]
  },
  {
   "cell_type": "code",
   "execution_count": 25,
   "id": "f3830e67",
   "metadata": {},
   "outputs": [
    {
     "name": "stdout",
     "output_type": "stream",
     "text": [
      "diff dataset/ correctness-out/contextual-d-improved-decoded/\n",
      "Identical files : ['bib', 'book1', 'book2', 'geo', 'news', 'obj1', 'obj2', 'paper1', 'paper2', 'pic', 'progc', 'progl', 'progp', 'trans']\n"
     ]
    }
   ],
   "source": [
    "filecmp.dircmp(\"dataset/\", \"correctness-out/contextual-d-improved-decoded/\").report()"
   ]
  },
  {
   "cell_type": "code",
   "execution_count": 27,
   "id": "4f41e28a",
   "metadata": {},
   "outputs": [
    {
     "name": "stdout",
     "output_type": "stream",
     "text": [
      "diff dataset/ correctness-out/numerical-decoded/\n",
      "Identical files : ['bib', 'book1', 'book2', 'geo', 'news', 'obj1', 'obj2', 'paper1', 'paper2', 'pic', 'progc', 'progl', 'progp', 'trans']\n"
     ]
    }
   ],
   "source": [
    "filecmp.dircmp(\"dataset/\", \"correctness-out/numerical-decoded/\").report()"
   ]
  }
 ],
 "metadata": {
  "kernelspec": {
   "display_name": "Python 3 (ipykernel)",
   "language": "python",
   "name": "python3"
  },
  "language_info": {
   "codemirror_mode": {
    "name": "ipython",
    "version": 3
   },
   "file_extension": ".py",
   "mimetype": "text/x-python",
   "name": "python",
   "nbconvert_exporter": "python",
   "pygments_lexer": "ipython3",
   "version": "3.10.9"
  }
 },
 "nbformat": 4,
 "nbformat_minor": 5
}
