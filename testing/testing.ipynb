{
 "cells": [
  {
   "cell_type": "code",
   "execution_count": 1,
   "id": "a42d29d1",
   "metadata": {},
   "outputs": [],
   "source": [
    "from os import listdir, makedirs\n",
    "from os.path import isfile, join, exists\n",
    "import subprocess"
   ]
  },
  {
   "cell_type": "code",
   "execution_count": 2,
   "id": "b6472111",
   "metadata": {},
   "outputs": [],
   "source": [
    "test_file_names = [f for f in listdir(\"dataset\") if isfile(join(\"dataset\", f))]"
   ]
  },
  {
   "cell_type": "code",
   "execution_count": 3,
   "id": "c14a09dd",
   "metadata": {},
   "outputs": [
    {
     "data": {
      "text/plain": [
       "['paper5',\n",
       " 'obj1',\n",
       " 'obj2',\n",
       " 'geo',\n",
       " 'trans',\n",
       " 'progp',\n",
       " 'progl',\n",
       " 'book2',\n",
       " 'paper1',\n",
       " 'news',\n",
       " 'progc',\n",
       " 'paper4',\n",
       " 'pic',\n",
       " 'bib',\n",
       " 'paper2',\n",
       " 'book1',\n",
       " 'paper3',\n",
       " 'paper6']"
      ]
     },
     "execution_count": 3,
     "metadata": {},
     "output_type": "execute_result"
    }
   ],
   "source": [
    "test_file_names"
   ]
  },
  {
   "cell_type": "code",
   "execution_count": 4,
   "id": "ec389ab0",
   "metadata": {},
   "outputs": [],
   "source": [
    "def test_encode(executable: str, file_in: str, file_out: str, additional_params: str):\n",
    "    subprocess.run(executable + \" -i {} -o {} {}\".format(file_in, file_out, additional_params),\n",
    "                   shell=True, check=True)"
   ]
  },
  {
   "cell_type": "code",
   "execution_count": 5,
   "id": "333d7a28",
   "metadata": {},
   "outputs": [],
   "source": [
    "def do_tests(executable: str, inDir: str, filenames: list, outDir: str,\n",
    "             outPostfix: str, numThreads: int, additionalParams = []):\n",
    "    if not exists(outDir):\n",
    "        makedirs(outDir)\n",
    "    procs = []\n",
    "        \n",
    "    numRuns = (len(filenames) - 1) // numThreads + 1\n",
    "        \n",
    "    for runI in range(numRuns):\n",
    "        lowI = numThreads * runI\n",
    "        highI = min(len(filenames), numThreads * (runI + 1))\n",
    "        print(\"Process files: \", *filenames[lowI:highI])\n",
    "        for filename in filenames[lowI:highI]:\n",
    "            inFile = inDir + \"/\" + filename\n",
    "            outFile = outDir + \"/\" + filename + outPostfix\n",
    "            print(\"In file: {}. \\t Out file: {}\".format(inFile, outFile))\n",
    "            procs.append(subprocess.Popen([executable, \"-i\", inFile, \"-o\",  outFile] + additionalParams))\n",
    "        for p in procs:\n",
    "            p.wait()"
   ]
  },
  {
   "cell_type": "code",
   "execution_count": 7,
   "id": "936121d9",
   "metadata": {},
   "outputs": [
    {
     "name": "stdout",
     "output_type": "stream",
     "text": [
      "Process files:  paper5 obj1 obj2 geo trans progp\n",
      "In file: dataset/paper5. \t Out file: out/dataset-d-out/paper5-encoded\n",
      "In file: dataset/obj1. \t Out file: out/dataset-d-out/obj1-encoded\n",
      "In file: dataset/obj2. \t Out file: out/dataset-d-out/obj2-encoded\n",
      "In file: dataset/geo. \t Out file: out/dataset-d-out/geo-encoded\n",
      "In file: dataset/trans. \t Out file: out/dataset-d-out/trans-encoded\n",
      "In file: dataset/progp. \t Out file: out/dataset-d-out/progp-encoded\n",
      "Process files:  progl book2 paper1 news progc paper4\n",
      "In file: dataset/progl. \t Out file: out/dataset-d-out/progl-encoded\n",
      "In file: dataset/book2. \t Out file: out/dataset-d-out/book2-encoded\n",
      "In file: dataset/paper1. \t Out file: out/dataset-d-out/paper1-encoded\n",
      "In file: dataset/news. \t Out file: out/dataset-d-out/news-encoded\n",
      "In file: dataset/progc. \t Out file: out/dataset-d-out/progc-encoded\n",
      "In file: dataset/paper4. \t Out file: out/dataset-d-out/paper4-encoded\n",
      "Process files:  pic bib paper2 book1 paper3 paper6\n",
      "In file: dataset/pic. \t Out file: out/dataset-d-out/pic-encoded\n",
      "In file: dataset/bib. \t Out file: out/dataset-d-out/bib-encoded\n",
      "In file: dataset/paper2. \t Out file: out/dataset-d-out/paper2-encoded\n",
      "In file: dataset/book1. \t Out file: out/dataset-d-out/book1-encoded\n",
      "In file: dataset/paper3. \t Out file: out/dataset-d-out/paper3-encoded\n",
      "In file: dataset/paper6. \t Out file: out/dataset-d-out/paper6-encoded\n"
     ]
    }
   ],
   "source": [
    "do_tests(\"./exe/archiever_d_encoder\", \"dataset\", test_file_names,\n",
    "         \"out/dataset-d-out\", \"-encoded\", 6, [\"-b\", \"8\", \"-l\", \"off\"])"
   ]
  },
  {
   "cell_type": "code",
   "execution_count": 10,
   "id": "76ce7982",
   "metadata": {},
   "outputs": [
    {
     "name": "stdout",
     "output_type": "stream",
     "text": [
      "Process files:  paper5 obj1 obj2 geo trans progp progl book2 paper1 news progc paper4 pic bib paper2 book1 paper3 paper6\n",
      "In file: dataset/paper5. \t Out file: out/dataset-d-out-1502-29/paper5-encoded\n",
      "In file: dataset/obj1. \t Out file: out/dataset-d-out-1502-29/obj1-encoded\n",
      "In file: dataset/obj2. \t Out file: out/dataset-d-out-1502-29/obj2-encoded\n",
      "In file: dataset/geo. \t Out file: out/dataset-d-out-1502-29/geo-encoded\n",
      "In file: dataset/trans. \t Out file: out/dataset-d-out-1502-29/trans-encoded\n",
      "In file: dataset/progp. \t Out file: out/dataset-d-out-1502-29/progp-encoded\n",
      "In file: dataset/progl. \t Out file: out/dataset-d-out-1502-29/progl-encoded\n",
      "In file: dataset/book2. \t Out file: out/dataset-d-out-1502-29/book2-encoded\n",
      "In file: dataset/paper1. \t Out file: out/dataset-d-out-1502-29/paper1-encoded\n",
      "In file: dataset/news. \t Out file: out/dataset-d-out-1502-29/news-encoded\n",
      "In file: dataset/progc. \t Out file: out/dataset-d-out-1502-29/progc-encoded\n",
      "In file: dataset/paper4. \t Out file: out/dataset-d-out-1502-29/paper4-encoded\n",
      "In file: dataset/pic. \t Out file: out/dataset-d-out-1502-29/pic-encoded\n",
      "In file: dataset/bib. \t Out file: out/dataset-d-out-1502-29/bib-encoded\n",
      "In file: dataset/paper2. \t Out file: out/dataset-d-out-1502-29/paper2-encoded\n",
      "In file: dataset/book1. \t Out file: out/dataset-d-out-1502-29/book1-encoded\n",
      "In file: dataset/paper3. \t Out file: out/dataset-d-out-1502-29/paper3-encoded\n",
      "In file: dataset/paper6. \t Out file: out/dataset-d-out-1502-29/paper6-encoded\n"
     ]
    },
    {
     "ename": "KeyboardInterrupt",
     "evalue": "",
     "output_type": "error",
     "traceback": [
      "\u001b[0;31m---------------------------------------------------------------------------\u001b[0m",
      "\u001b[0;31mKeyboardInterrupt\u001b[0m                         Traceback (most recent call last)",
      "Input \u001b[0;32mIn [10]\u001b[0m, in \u001b[0;36m<cell line: 1>\u001b[0;34m()\u001b[0m\n\u001b[1;32m      1\u001b[0m \u001b[38;5;28;01mfor\u001b[39;00m bits \u001b[38;5;129;01min\u001b[39;00m \u001b[38;5;28mrange\u001b[39m(\u001b[38;5;241m29\u001b[39m, \u001b[38;5;241m30\u001b[39m):\n\u001b[1;32m      2\u001b[0m     strBits \u001b[38;5;241m=\u001b[39m \u001b[38;5;28mstr\u001b[39m(bits)\n\u001b[0;32m----> 3\u001b[0m     \u001b[43mdo_tests\u001b[49m\u001b[43m(\u001b[49m\u001b[43mexecutable\u001b[49m\u001b[38;5;241;43m=\u001b[39;49m\u001b[38;5;124;43m\"\u001b[39;49m\u001b[38;5;124;43m./exe/archiever_d_encoder\u001b[39;49m\u001b[38;5;124;43m\"\u001b[39;49m\u001b[43m,\u001b[49m\u001b[43m \u001b[49m\n\u001b[1;32m      4\u001b[0m \u001b[43m             \u001b[49m\u001b[43minDir\u001b[49m\u001b[38;5;241;43m=\u001b[39;49m\u001b[38;5;124;43m\"\u001b[39;49m\u001b[38;5;124;43mdataset\u001b[39;49m\u001b[38;5;124;43m\"\u001b[39;49m\u001b[43m,\u001b[49m\u001b[43m \u001b[49m\n\u001b[1;32m      5\u001b[0m \u001b[43m             \u001b[49m\u001b[43mfilenames\u001b[49m\u001b[38;5;241;43m=\u001b[39;49m\u001b[43mtest_file_names\u001b[49m\u001b[43m,\u001b[49m\u001b[43m \u001b[49m\n\u001b[1;32m      6\u001b[0m \u001b[43m             \u001b[49m\u001b[43moutDir\u001b[49m\u001b[38;5;241;43m=\u001b[39;49m\u001b[38;5;124;43m\"\u001b[39;49m\u001b[38;5;124;43mout/dataset-d-out-1502-\u001b[39;49m\u001b[38;5;124;43m\"\u001b[39;49m\u001b[43m \u001b[49m\u001b[38;5;241;43m+\u001b[39;49m\u001b[43m \u001b[49m\u001b[43mstrBits\u001b[49m\u001b[43m,\u001b[49m\u001b[43m \u001b[49m\n\u001b[1;32m      7\u001b[0m \u001b[43m             \u001b[49m\u001b[43moutPostfix\u001b[49m\u001b[38;5;241;43m=\u001b[39;49m\u001b[38;5;124;43m\"\u001b[39;49m\u001b[38;5;124;43m-encoded\u001b[39;49m\u001b[38;5;124;43m\"\u001b[39;49m\u001b[43m,\u001b[49m\n\u001b[1;32m      8\u001b[0m \u001b[43m             \u001b[49m\u001b[43mnumThreads\u001b[49m\u001b[38;5;241;43m=\u001b[39;49m\u001b[38;5;241;43m18\u001b[39;49m\u001b[43m,\u001b[49m\u001b[43m \u001b[49m\n\u001b[1;32m      9\u001b[0m \u001b[43m             \u001b[49m\u001b[43madditionalParams\u001b[49m\u001b[38;5;241;43m=\u001b[39;49m\u001b[43m[\u001b[49m\u001b[38;5;124;43m\"\u001b[39;49m\u001b[38;5;124;43m-b\u001b[39;49m\u001b[38;5;124;43m\"\u001b[39;49m\u001b[43m,\u001b[49m\u001b[43m \u001b[49m\u001b[43mstrBits\u001b[49m\u001b[43m,\u001b[49m\u001b[43m \u001b[49m\u001b[38;5;124;43m\"\u001b[39;49m\u001b[38;5;124;43m-l\u001b[39;49m\u001b[38;5;124;43m\"\u001b[39;49m\u001b[43m,\u001b[49m\u001b[43m \u001b[49m\u001b[38;5;124;43m\"\u001b[39;49m\u001b[38;5;124;43moff\u001b[39;49m\u001b[38;5;124;43m\"\u001b[39;49m\u001b[43m]\u001b[49m\u001b[43m)\u001b[49m\n",
      "Input \u001b[0;32mIn [5]\u001b[0m, in \u001b[0;36mdo_tests\u001b[0;34m(executable, inDir, filenames, outDir, outPostfix, numThreads, additionalParams)\u001b[0m\n\u001b[1;32m     17\u001b[0m     procs\u001b[38;5;241m.\u001b[39mappend(subprocess\u001b[38;5;241m.\u001b[39mPopen([executable, \u001b[38;5;124m\"\u001b[39m\u001b[38;5;124m-i\u001b[39m\u001b[38;5;124m\"\u001b[39m, inFile, \u001b[38;5;124m\"\u001b[39m\u001b[38;5;124m-o\u001b[39m\u001b[38;5;124m\"\u001b[39m,  outFile] \u001b[38;5;241m+\u001b[39m additionalParams))\n\u001b[1;32m     18\u001b[0m \u001b[38;5;28;01mfor\u001b[39;00m p \u001b[38;5;129;01min\u001b[39;00m procs:\n\u001b[0;32m---> 19\u001b[0m     \u001b[43mp\u001b[49m\u001b[38;5;241;43m.\u001b[39;49m\u001b[43mwait\u001b[49m\u001b[43m(\u001b[49m\u001b[43m)\u001b[49m\n",
      "File \u001b[0;32m/usr/lib/python3.10/subprocess.py:1209\u001b[0m, in \u001b[0;36mPopen.wait\u001b[0;34m(self, timeout)\u001b[0m\n\u001b[1;32m   1207\u001b[0m     endtime \u001b[38;5;241m=\u001b[39m _time() \u001b[38;5;241m+\u001b[39m timeout\n\u001b[1;32m   1208\u001b[0m \u001b[38;5;28;01mtry\u001b[39;00m:\n\u001b[0;32m-> 1209\u001b[0m     \u001b[38;5;28;01mreturn\u001b[39;00m \u001b[38;5;28;43mself\u001b[39;49m\u001b[38;5;241;43m.\u001b[39;49m\u001b[43m_wait\u001b[49m\u001b[43m(\u001b[49m\u001b[43mtimeout\u001b[49m\u001b[38;5;241;43m=\u001b[39;49m\u001b[43mtimeout\u001b[49m\u001b[43m)\u001b[49m\n\u001b[1;32m   1210\u001b[0m \u001b[38;5;28;01mexcept\u001b[39;00m \u001b[38;5;167;01mKeyboardInterrupt\u001b[39;00m:\n\u001b[1;32m   1211\u001b[0m     \u001b[38;5;66;03m# https://bugs.python.org/issue25942\u001b[39;00m\n\u001b[1;32m   1212\u001b[0m     \u001b[38;5;66;03m# The first keyboard interrupt waits briefly for the child to\u001b[39;00m\n\u001b[1;32m   1213\u001b[0m     \u001b[38;5;66;03m# exit under the common assumption that it also received the ^C\u001b[39;00m\n\u001b[1;32m   1214\u001b[0m     \u001b[38;5;66;03m# generated SIGINT and will exit rapidly.\u001b[39;00m\n\u001b[1;32m   1215\u001b[0m     \u001b[38;5;28;01mif\u001b[39;00m timeout \u001b[38;5;129;01mis\u001b[39;00m \u001b[38;5;129;01mnot\u001b[39;00m \u001b[38;5;28;01mNone\u001b[39;00m:\n",
      "File \u001b[0;32m/usr/lib/python3.10/subprocess.py:1943\u001b[0m, in \u001b[0;36mPopen._wait\u001b[0;34m(self, timeout)\u001b[0m\n\u001b[1;32m   1941\u001b[0m \u001b[38;5;28;01mif\u001b[39;00m \u001b[38;5;28mself\u001b[39m\u001b[38;5;241m.\u001b[39mreturncode \u001b[38;5;129;01mis\u001b[39;00m \u001b[38;5;129;01mnot\u001b[39;00m \u001b[38;5;28;01mNone\u001b[39;00m:\n\u001b[1;32m   1942\u001b[0m     \u001b[38;5;28;01mbreak\u001b[39;00m  \u001b[38;5;66;03m# Another thread waited.\u001b[39;00m\n\u001b[0;32m-> 1943\u001b[0m (pid, sts) \u001b[38;5;241m=\u001b[39m \u001b[38;5;28;43mself\u001b[39;49m\u001b[38;5;241;43m.\u001b[39;49m\u001b[43m_try_wait\u001b[49m\u001b[43m(\u001b[49m\u001b[38;5;241;43m0\u001b[39;49m\u001b[43m)\u001b[49m\n\u001b[1;32m   1944\u001b[0m \u001b[38;5;66;03m# Check the pid and loop as waitpid has been known to\u001b[39;00m\n\u001b[1;32m   1945\u001b[0m \u001b[38;5;66;03m# return 0 even without WNOHANG in odd situations.\u001b[39;00m\n\u001b[1;32m   1946\u001b[0m \u001b[38;5;66;03m# http://bugs.python.org/issue14396.\u001b[39;00m\n\u001b[1;32m   1947\u001b[0m \u001b[38;5;28;01mif\u001b[39;00m pid \u001b[38;5;241m==\u001b[39m \u001b[38;5;28mself\u001b[39m\u001b[38;5;241m.\u001b[39mpid:\n",
      "File \u001b[0;32m/usr/lib/python3.10/subprocess.py:1901\u001b[0m, in \u001b[0;36mPopen._try_wait\u001b[0;34m(self, wait_flags)\u001b[0m\n\u001b[1;32m   1899\u001b[0m \u001b[38;5;250m\u001b[39m\u001b[38;5;124;03m\"\"\"All callers to this function MUST hold self._waitpid_lock.\"\"\"\u001b[39;00m\n\u001b[1;32m   1900\u001b[0m \u001b[38;5;28;01mtry\u001b[39;00m:\n\u001b[0;32m-> 1901\u001b[0m     (pid, sts) \u001b[38;5;241m=\u001b[39m \u001b[43mos\u001b[49m\u001b[38;5;241;43m.\u001b[39;49m\u001b[43mwaitpid\u001b[49m\u001b[43m(\u001b[49m\u001b[38;5;28;43mself\u001b[39;49m\u001b[38;5;241;43m.\u001b[39;49m\u001b[43mpid\u001b[49m\u001b[43m,\u001b[49m\u001b[43m \u001b[49m\u001b[43mwait_flags\u001b[49m\u001b[43m)\u001b[49m\n\u001b[1;32m   1902\u001b[0m \u001b[38;5;28;01mexcept\u001b[39;00m \u001b[38;5;167;01mChildProcessError\u001b[39;00m:\n\u001b[1;32m   1903\u001b[0m     \u001b[38;5;66;03m# This happens if SIGCLD is set to be ignored or waiting\u001b[39;00m\n\u001b[1;32m   1904\u001b[0m     \u001b[38;5;66;03m# for child processes has otherwise been disabled for our\u001b[39;00m\n\u001b[1;32m   1905\u001b[0m     \u001b[38;5;66;03m# process.  This child is dead, we can't get the status.\u001b[39;00m\n\u001b[1;32m   1906\u001b[0m     pid \u001b[38;5;241m=\u001b[39m \u001b[38;5;28mself\u001b[39m\u001b[38;5;241m.\u001b[39mpid\n",
      "\u001b[0;31mKeyboardInterrupt\u001b[0m: "
     ]
    }
   ],
   "source": [
    "for bits in range(29, 30):\n",
    "    strBits = str(bits)\n",
    "    do_tests(executable=\"./exe/archiever_d_encoder\", \n",
    "             inDir=\"dataset\", \n",
    "             filenames=test_file_names, \n",
    "             outDir=\"out/dataset-d-out-1502-\" + strBits, \n",
    "             outPostfix=\"-encoded\",\n",
    "             numThreads=18, \n",
    "             additionalParams=[\"-b\", strBits, \"-l\", \"off\"])"
   ]
  },
  {
   "cell_type": "code",
   "execution_count": 9,
   "id": "763a3aae",
   "metadata": {},
   "outputs": [
    {
     "name": "stdout",
     "output_type": "stream",
     "text": [
      "Process files:  paper5-encoded obj1-encoded obj2-encoded geo-encoded trans-encoded progp-encoded progl-encoded book2-encoded paper1-encoded news-encoded progc-encoded paper4-encoded pic-encoded bib-encoded paper2-encoded book1-encoded paper3-encoded paper6-encoded\n",
      "In file: out/dataset-d-out-8/paper5-encoded. \t Out file: out/dataset-d-decoded-8/paper5-encoded-decoded\n",
      "In file: out/dataset-d-out-8/obj1-encoded. \t Out file: out/dataset-d-decoded-8/obj1-encoded-decoded\n",
      "In file: out/dataset-d-out-8/obj2-encoded. \t Out file: out/dataset-d-decoded-8/obj2-encoded-decoded\n",
      "In file: out/dataset-d-out-8/geo-encoded. \t Out file: out/dataset-d-decoded-8/geo-encoded-decoded\n",
      "In file: out/dataset-d-out-8/trans-encoded. \t Out file: out/dataset-d-decoded-8/trans-encoded-decoded\n",
      "In file: out/dataset-d-out-8/progp-encoded. \t Out file: out/dataset-d-decoded-8/progp-encoded-decoded\n",
      "In file: out/dataset-d-out-8/progl-encoded. \t Out file: out/dataset-d-decoded-8/progl-encoded-decoded\n",
      "In file: out/dataset-d-out-8/book2-encoded. \t Out file: out/dataset-d-decoded-8/book2-encoded-decoded\n",
      "In file: out/dataset-d-out-8/paper1-encoded. \t Out file: out/dataset-d-decoded-8/paper1-encoded-decoded\n",
      "In file: out/dataset-d-out-8/news-encoded. \t Out file: out/dataset-d-decoded-8/news-encoded-decoded\n",
      "In file: out/dataset-d-out-8/progc-encoded. \t Out file: out/dataset-d-decoded-8/progc-encoded-decoded\n",
      "In file: out/dataset-d-out-8/paper4-encoded. \t Out file: out/dataset-d-decoded-8/paper4-encoded-decoded\n",
      "In file: out/dataset-d-out-8/pic-encoded. \t Out file: out/dataset-d-decoded-8/pic-encoded-decoded\n",
      "In file: out/dataset-d-out-8/bib-encoded. \t Out file: out/dataset-d-decoded-8/bib-encoded-decoded\n",
      "In file: out/dataset-d-out-8/paper2-encoded. \t Out file: out/dataset-d-decoded-8/paper2-encoded-decoded\n",
      "In file: out/dataset-d-out-8/book1-encoded. \t Out file: out/dataset-d-decoded-8/book1-encoded-decoded\n",
      "In file: out/dataset-d-out-8/paper3-encoded. \t Out file: out/dataset-d-decoded-8/paper3-encoded-decoded\n",
      "In file: out/dataset-d-out-8/paper6-encoded. \t Out file: out/dataset-d-decoded-8/paper6-encoded-decoded\n",
      "Process files:  paper5-encoded obj1-encoded obj2-encoded geo-encoded trans-encoded progp-encoded progl-encoded book2-encoded paper1-encoded news-encoded progc-encoded paper4-encoded pic-encoded bib-encoded paper2-encoded book1-encoded paper3-encoded paper6-encoded\n",
      "In file: out/dataset-d-out-9/paper5-encoded. \t Out file: out/dataset-d-decoded-9/paper5-encoded-decoded\n",
      "In file: out/dataset-d-out-9/obj1-encoded. \t Out file: out/dataset-d-decoded-9/obj1-encoded-decoded\n",
      "In file: out/dataset-d-out-9/obj2-encoded. \t Out file: out/dataset-d-decoded-9/obj2-encoded-decoded\n",
      "In file: out/dataset-d-out-9/geo-encoded. \t Out file: out/dataset-d-decoded-9/geo-encoded-decoded\n",
      "In file: out/dataset-d-out-9/trans-encoded. \t Out file: out/dataset-d-decoded-9/trans-encoded-decoded\n",
      "In file: out/dataset-d-out-9/progp-encoded. \t Out file: out/dataset-d-decoded-9/progp-encoded-decoded\n",
      "In file: out/dataset-d-out-9/progl-encoded. \t Out file: out/dataset-d-decoded-9/progl-encoded-decoded\n",
      "In file: out/dataset-d-out-9/book2-encoded. \t Out file: out/dataset-d-decoded-9/book2-encoded-decoded\n",
      "In file: out/dataset-d-out-9/paper1-encoded. \t Out file: out/dataset-d-decoded-9/paper1-encoded-decoded\n",
      "In file: out/dataset-d-out-9/news-encoded. \t Out file: out/dataset-d-decoded-9/news-encoded-decoded\n",
      "In file: out/dataset-d-out-9/progc-encoded. \t Out file: out/dataset-d-decoded-9/progc-encoded-decoded\n",
      "In file: out/dataset-d-out-9/paper4-encoded. \t Out file: out/dataset-d-decoded-9/paper4-encoded-decoded\n",
      "In file: out/dataset-d-out-9/pic-encoded. \t Out file: out/dataset-d-decoded-9/pic-encoded-decoded\n",
      "In file: out/dataset-d-out-9/bib-encoded. \t Out file: out/dataset-d-decoded-9/bib-encoded-decoded\n",
      "In file: out/dataset-d-out-9/paper2-encoded. \t Out file: out/dataset-d-decoded-9/paper2-encoded-decoded\n",
      "In file: out/dataset-d-out-9/book1-encoded. \t Out file: out/dataset-d-decoded-9/book1-encoded-decoded\n",
      "In file: out/dataset-d-out-9/paper3-encoded. \t Out file: out/dataset-d-decoded-9/paper3-encoded-decoded\n",
      "In file: out/dataset-d-out-9/paper6-encoded. \t Out file: out/dataset-d-decoded-9/paper6-encoded-decoded\n",
      "Process files:  paper5-encoded obj1-encoded obj2-encoded geo-encoded trans-encoded progp-encoded progl-encoded book2-encoded paper1-encoded news-encoded progc-encoded paper4-encoded pic-encoded bib-encoded paper2-encoded book1-encoded paper3-encoded paper6-encoded\n",
      "In file: out/dataset-d-out-10/paper5-encoded. \t Out file: out/dataset-d-decoded-10/paper5-encoded-decoded\n",
      "In file: out/dataset-d-out-10/obj1-encoded. \t Out file: out/dataset-d-decoded-10/obj1-encoded-decoded\n",
      "In file: out/dataset-d-out-10/obj2-encoded. \t Out file: out/dataset-d-decoded-10/obj2-encoded-decoded\n",
      "In file: out/dataset-d-out-10/geo-encoded. \t Out file: out/dataset-d-decoded-10/geo-encoded-decoded\n",
      "In file: out/dataset-d-out-10/trans-encoded. \t Out file: out/dataset-d-decoded-10/trans-encoded-decoded\n",
      "In file: out/dataset-d-out-10/progp-encoded. \t Out file: out/dataset-d-decoded-10/progp-encoded-decoded\n",
      "In file: out/dataset-d-out-10/progl-encoded. \t Out file: out/dataset-d-decoded-10/progl-encoded-decoded\n",
      "In file: out/dataset-d-out-10/book2-encoded. \t Out file: out/dataset-d-decoded-10/book2-encoded-decoded\n",
      "In file: out/dataset-d-out-10/paper1-encoded. \t Out file: out/dataset-d-decoded-10/paper1-encoded-decoded\n",
      "In file: out/dataset-d-out-10/news-encoded. \t Out file: out/dataset-d-decoded-10/news-encoded-decoded\n",
      "In file: out/dataset-d-out-10/progc-encoded. \t Out file: out/dataset-d-decoded-10/progc-encoded-decoded\n",
      "In file: out/dataset-d-out-10/paper4-encoded. \t Out file: out/dataset-d-decoded-10/paper4-encoded-decoded\n",
      "In file: out/dataset-d-out-10/pic-encoded. \t Out file: out/dataset-d-decoded-10/pic-encoded-decoded\n",
      "In file: out/dataset-d-out-10/bib-encoded. \t Out file: out/dataset-d-decoded-10/bib-encoded-decoded\n",
      "In file: out/dataset-d-out-10/paper2-encoded. \t Out file: out/dataset-d-decoded-10/paper2-encoded-decoded\n",
      "In file: out/dataset-d-out-10/book1-encoded. \t Out file: out/dataset-d-decoded-10/book1-encoded-decoded\n",
      "In file: out/dataset-d-out-10/paper3-encoded. \t Out file: out/dataset-d-decoded-10/paper3-encoded-decoded\n",
      "In file: out/dataset-d-out-10/paper6-encoded. \t Out file: out/dataset-d-decoded-10/paper6-encoded-decoded\n",
      "Process files:  paper5-encoded obj1-encoded obj2-encoded geo-encoded trans-encoded progp-encoded progl-encoded book2-encoded paper1-encoded news-encoded progc-encoded paper4-encoded pic-encoded bib-encoded paper2-encoded book1-encoded paper3-encoded paper6-encoded\n",
      "In file: out/dataset-d-out-11/paper5-encoded. \t Out file: out/dataset-d-decoded-11/paper5-encoded-decoded\n",
      "In file: out/dataset-d-out-11/obj1-encoded. \t Out file: out/dataset-d-decoded-11/obj1-encoded-decoded\n",
      "In file: out/dataset-d-out-11/obj2-encoded. \t Out file: out/dataset-d-decoded-11/obj2-encoded-decoded\n",
      "In file: out/dataset-d-out-11/geo-encoded. \t Out file: out/dataset-d-decoded-11/geo-encoded-decoded\n",
      "In file: out/dataset-d-out-11/trans-encoded. \t Out file: out/dataset-d-decoded-11/trans-encoded-decoded\n",
      "In file: out/dataset-d-out-11/progp-encoded. \t Out file: out/dataset-d-decoded-11/progp-encoded-decoded\n",
      "In file: out/dataset-d-out-11/progl-encoded. \t Out file: out/dataset-d-decoded-11/progl-encoded-decoded\n",
      "In file: out/dataset-d-out-11/book2-encoded. \t Out file: out/dataset-d-decoded-11/book2-encoded-decoded\n",
      "In file: out/dataset-d-out-11/paper1-encoded. \t Out file: out/dataset-d-decoded-11/paper1-encoded-decoded\n",
      "In file: out/dataset-d-out-11/news-encoded. \t Out file: out/dataset-d-decoded-11/news-encoded-decoded\n",
      "In file: out/dataset-d-out-11/progc-encoded. \t Out file: out/dataset-d-decoded-11/progc-encoded-decoded\n",
      "In file: out/dataset-d-out-11/paper4-encoded. \t Out file: out/dataset-d-decoded-11/paper4-encoded-decoded\n",
      "In file: out/dataset-d-out-11/pic-encoded. \t Out file: out/dataset-d-decoded-11/pic-encoded-decoded\n",
      "In file: out/dataset-d-out-11/bib-encoded. \t Out file: out/dataset-d-decoded-11/bib-encoded-decoded\n",
      "In file: out/dataset-d-out-11/paper2-encoded. \t Out file: out/dataset-d-decoded-11/paper2-encoded-decoded\n",
      "In file: out/dataset-d-out-11/book1-encoded. \t Out file: out/dataset-d-decoded-11/book1-encoded-decoded\n",
      "In file: out/dataset-d-out-11/paper3-encoded. \t Out file: out/dataset-d-decoded-11/paper3-encoded-decoded\n",
      "In file: out/dataset-d-out-11/paper6-encoded. \t Out file: out/dataset-d-decoded-11/paper6-encoded-decoded\n"
     ]
    },
    {
     "name": "stdout",
     "output_type": "stream",
     "text": [
      "Process files:  paper5-encoded obj1-encoded obj2-encoded geo-encoded trans-encoded progp-encoded progl-encoded book2-encoded paper1-encoded news-encoded progc-encoded paper4-encoded pic-encoded bib-encoded paper2-encoded book1-encoded paper3-encoded paper6-encoded\n",
      "In file: out/dataset-d-out-12/paper5-encoded. \t Out file: out/dataset-d-decoded-12/paper5-encoded-decoded\n",
      "In file: out/dataset-d-out-12/obj1-encoded. \t Out file: out/dataset-d-decoded-12/obj1-encoded-decoded\n",
      "In file: out/dataset-d-out-12/obj2-encoded. \t Out file: out/dataset-d-decoded-12/obj2-encoded-decoded\n",
      "In file: out/dataset-d-out-12/geo-encoded. \t Out file: out/dataset-d-decoded-12/geo-encoded-decoded\n",
      "In file: out/dataset-d-out-12/trans-encoded. \t Out file: out/dataset-d-decoded-12/trans-encoded-decoded\n",
      "In file: out/dataset-d-out-12/progp-encoded. \t Out file: out/dataset-d-decoded-12/progp-encoded-decoded\n",
      "In file: out/dataset-d-out-12/progl-encoded. \t Out file: out/dataset-d-decoded-12/progl-encoded-decoded\n",
      "In file: out/dataset-d-out-12/book2-encoded. \t Out file: out/dataset-d-decoded-12/book2-encoded-decoded\n",
      "In file: out/dataset-d-out-12/paper1-encoded. \t Out file: out/dataset-d-decoded-12/paper1-encoded-decoded\n",
      "In file: out/dataset-d-out-12/news-encoded. \t Out file: out/dataset-d-decoded-12/news-encoded-decoded\n",
      "In file: out/dataset-d-out-12/progc-encoded. \t Out file: out/dataset-d-decoded-12/progc-encoded-decoded\n",
      "In file: out/dataset-d-out-12/paper4-encoded. \t Out file: out/dataset-d-decoded-12/paper4-encoded-decoded\n",
      "In file: out/dataset-d-out-12/pic-encoded. \t Out file: out/dataset-d-decoded-12/pic-encoded-decoded\n",
      "In file: out/dataset-d-out-12/bib-encoded. \t Out file: out/dataset-d-decoded-12/bib-encoded-decoded\n",
      "In file: out/dataset-d-out-12/paper2-encoded. \t Out file: out/dataset-d-decoded-12/paper2-encoded-decoded\n",
      "In file: out/dataset-d-out-12/book1-encoded. \t Out file: out/dataset-d-decoded-12/book1-encoded-decoded\n",
      "In file: out/dataset-d-out-12/paper3-encoded. \t Out file: out/dataset-d-decoded-12/paper3-encoded-decoded\n",
      "In file: out/dataset-d-out-12/paper6-encoded. \t Out file: out/dataset-d-decoded-12/paper6-encoded-decoded\n",
      "Process files:  paper5-encoded obj1-encoded obj2-encoded geo-encoded trans-encoded progp-encoded progl-encoded book2-encoded paper1-encoded news-encoded progc-encoded paper4-encoded pic-encoded bib-encoded paper2-encoded book1-encoded paper3-encoded paper6-encoded\n",
      "In file: out/dataset-d-out-13/paper5-encoded. \t Out file: out/dataset-d-decoded-13/paper5-encoded-decoded\n",
      "In file: out/dataset-d-out-13/obj1-encoded. \t Out file: out/dataset-d-decoded-13/obj1-encoded-decoded\n",
      "In file: out/dataset-d-out-13/obj2-encoded. \t Out file: out/dataset-d-decoded-13/obj2-encoded-decoded\n",
      "In file: out/dataset-d-out-13/geo-encoded. \t Out file: out/dataset-d-decoded-13/geo-encoded-decoded\n",
      "In file: out/dataset-d-out-13/trans-encoded. \t Out file: out/dataset-d-decoded-13/trans-encoded-decoded\n",
      "In file: out/dataset-d-out-13/progp-encoded. \t Out file: out/dataset-d-decoded-13/progp-encoded-decoded\n",
      "In file: out/dataset-d-out-13/progl-encoded. \t Out file: out/dataset-d-decoded-13/progl-encoded-decoded\n",
      "In file: out/dataset-d-out-13/book2-encoded. \t Out file: out/dataset-d-decoded-13/book2-encoded-decoded\n",
      "In file: out/dataset-d-out-13/paper1-encoded. \t Out file: out/dataset-d-decoded-13/paper1-encoded-decoded\n",
      "In file: out/dataset-d-out-13/news-encoded. \t Out file: out/dataset-d-decoded-13/news-encoded-decoded\n",
      "In file: out/dataset-d-out-13/progc-encoded. \t Out file: out/dataset-d-decoded-13/progc-encoded-decoded\n",
      "In file: out/dataset-d-out-13/paper4-encoded. \t Out file: out/dataset-d-decoded-13/paper4-encoded-decoded\n",
      "In file: out/dataset-d-out-13/pic-encoded. \t Out file: out/dataset-d-decoded-13/pic-encoded-decoded\n",
      "In file: out/dataset-d-out-13/bib-encoded. \t Out file: out/dataset-d-decoded-13/bib-encoded-decoded\n",
      "In file: out/dataset-d-out-13/paper2-encoded. \t Out file: out/dataset-d-decoded-13/paper2-encoded-decoded\n",
      "In file: out/dataset-d-out-13/book1-encoded. \t Out file: out/dataset-d-decoded-13/book1-encoded-decoded\n",
      "In file: out/dataset-d-out-13/paper3-encoded. \t Out file: out/dataset-d-decoded-13/paper3-encoded-decoded\n",
      "In file: out/dataset-d-out-13/paper6-encoded. \t Out file: out/dataset-d-decoded-13/paper6-encoded-decoded\n"
     ]
    }
   ],
   "source": [
    "for bits in range(8, 14):\n",
    "    strBits = str(bits)\n",
    "    encodedFileNames = [filename + \"-encoded\" for filename in test_file_names]\n",
    "    do_tests(executable=\"./exe/archiever_d_decoder\",\n",
    "             inDir=\"out/dataset-d-out-\" + strBits,\n",
    "             filenames=encodedFileNames,\n",
    "             outDir=\"out/dataset-d-decoded-\" + strBits,\n",
    "             outPostfix=\"-decoded\",\n",
    "             numThreads=18,\n",
    "             additionalParams=[\"-l\", \"off\"])"
   ]
  },
  {
   "cell_type": "code",
   "execution_count": 8,
   "id": "7572c970",
   "metadata": {},
   "outputs": [
    {
     "name": "stdout",
     "output_type": "stream",
     "text": [
      "Process files:  paper5 obj1 obj2 geo trans progp progl book2 paper1 news progc paper4 pic bib paper2 book1 paper3 paper6\n",
      "In file: dataset/paper5. \t Out file: out/dataset-ppmd-out-16-6-4/paper5-encoded\n",
      "In file: dataset/obj1. \t Out file: out/dataset-ppmd-out-16-6-4/obj1-encoded\n",
      "In file: dataset/obj2. \t Out file: out/dataset-ppmd-out-16-6-4/obj2-encoded\n",
      "In file: dataset/geo. \t Out file: out/dataset-ppmd-out-16-6-4/geo-encoded\n",
      "In file: dataset/trans. \t Out file: out/dataset-ppmd-out-16-6-4/trans-encoded\n",
      "In file: dataset/progp. \t Out file: out/dataset-ppmd-out-16-6-4/progp-encoded\n",
      "In file: dataset/progl. \t Out file: out/dataset-ppmd-out-16-6-4/progl-encoded\n",
      "In file: dataset/book2. \t Out file: out/dataset-ppmd-out-16-6-4/book2-encoded\n",
      "In file: dataset/paper1. \t Out file: out/dataset-ppmd-out-16-6-4/paper1-encoded\n",
      "In file: dataset/news. \t Out file: out/dataset-ppmd-out-16-6-4/news-encoded\n",
      "In file: dataset/progc. \t Out file: out/dataset-ppmd-out-16-6-4/progc-encoded\n",
      "In file: dataset/paper4. \t Out file: out/dataset-ppmd-out-16-6-4/paper4-encoded\n",
      "In file: dataset/pic. \t Out file: out/dataset-ppmd-out-16-6-4/pic-encoded\n",
      "In file: dataset/bib. \t Out file: out/dataset-ppmd-out-16-6-4/bib-encoded\n",
      "In file: dataset/paper2. \t Out file: out/dataset-ppmd-out-16-6-4/paper2-encoded\n",
      "In file: dataset/book1. \t Out file: out/dataset-ppmd-out-16-6-4/book1-encoded\n",
      "In file: dataset/paper3. \t Out file: out/dataset-ppmd-out-16-6-4/paper3-encoded\n",
      "In file: dataset/paper6. \t Out file: out/dataset-ppmd-out-16-6-4/paper6-encoded\n"
     ]
    }
   ],
   "source": [
    "do_tests(executable=\"./exe/ppmd_encoder\", \n",
    "             inDir=\"dataset\", \n",
    "             filenames=test_file_names, \n",
    "             outDir=\"out/dataset-ppmd-out-16-6-4\", \n",
    "             outPostfix=\"-encoded\",\n",
    "             numThreads=18, \n",
    "             additionalParams=[\"-b\", \"16\", \"-l\", \"off\", \"-c\", \"6\", \"-q\", \"4\"])"
   ]
  }
 ],
 "metadata": {
  "kernelspec": {
   "display_name": "Python 3 (ipykernel)",
   "language": "python",
   "name": "python3"
  },
  "language_info": {
   "codemirror_mode": {
    "name": "ipython",
    "version": 3
   },
   "file_extension": ".py",
   "mimetype": "text/x-python",
   "name": "python",
   "nbconvert_exporter": "python",
   "pygments_lexer": "ipython3",
   "version": "3.10.9"
  }
 },
 "nbformat": 4,
 "nbformat_minor": 5
}
