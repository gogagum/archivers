{
 "cells": [
  {
   "cell_type": "code",
   "execution_count": 33,
   "id": "b00ca666",
   "metadata": {},
   "outputs": [],
   "source": [
    "from os import listdir, makedirs\n",
    "from os.path import isfile, join, exists\n",
    "import subprocess"
   ]
  },
  {
   "cell_type": "code",
   "execution_count": 11,
   "id": "da984133",
   "metadata": {},
   "outputs": [],
   "source": [
    "test_file_names = [f for f in listdir(\"dataset\") if isfile(join(\"dataset\", f))]"
   ]
  },
  {
   "cell_type": "code",
   "execution_count": 13,
   "id": "28b9238f",
   "metadata": {},
   "outputs": [
    {
     "data": {
      "text/plain": [
       "['paper5',\n",
       " 'obj1',\n",
       " 'obj2',\n",
       " 'geo',\n",
       " 'trans',\n",
       " 'progp',\n",
       " 'progl',\n",
       " 'book2',\n",
       " 'paper1',\n",
       " 'news',\n",
       " 'progc',\n",
       " 'paper4',\n",
       " 'pic',\n",
       " 'bib',\n",
       " 'paper2',\n",
       " 'book1',\n",
       " 'paper3',\n",
       " 'paper6']"
      ]
     },
     "execution_count": 13,
     "metadata": {},
     "output_type": "execute_result"
    }
   ],
   "source": [
    "test_file_names"
   ]
  },
  {
   "cell_type": "code",
   "execution_count": 54,
   "id": "e9dbedf3",
   "metadata": {},
   "outputs": [],
   "source": [
    "def test_encode(executable: str, file_in: str, file_out: str, additional_params: str):\n",
    "    subprocess.run(executable + \" -i {} -o {} {}\".format(file_in, file_out, additional_params),\n",
    "                   shell=True, check=True)"
   ]
  },
  {
   "cell_type": "code",
   "execution_count": 55,
   "id": "11045fa6",
   "metadata": {},
   "outputs": [],
   "source": [
    "def do_tests(executable: str, inDir: str, filenames: list, outDir: str):\n",
    "    if not exists(outDir):\n",
    "        makedirs(outDir)\n",
    "    for filename in filenames:\n",
    "        inFile = inDir + \"/\" + filename\n",
    "        outFile = outDir + \"/\" + filename + \"-encoded\"\n",
    "        print(\"In file: \", inFile)\n",
    "        print(\"Out file: \", outFile)\n",
    "        test_encode(executable, inFile, outFile, \"\")"
   ]
  },
  {
   "cell_type": "code",
   "execution_count": null,
   "id": "d7a948a4",
   "metadata": {},
   "outputs": [
    {
     "name": "stdout",
     "output_type": "stream",
     "text": [
      "In file:  dataset/paper5\n",
      "Out file:  dataset-d-out/paper5-encoded\n",
      "In file:  dataset/obj1\n",
      "Out file:  dataset-d-out/obj1-encoded\n"
     ]
    },
    {
     "name": "stderr",
     "output_type": "stream",
     "text": [
      "File size: 11954.\n",
      "0%   10   20   30   40   50   60   70   80   90   100%\n",
      "|----|----|----|----|----|----|----|----|----|----|\n",
      "***************************************************\n",
      "File size: 21504.\n",
      "0%   10   20   30   40   50   60   70   80   90   100%\n",
      "|----|----|----|----|----|----|----|----|----|----|\n",
      "***************************************************\n",
      "File size: 246814.\n",
      "0%   10   20   30   40   50   60   70   80   90   100%\n",
      "|----|----|----|----|----|----|----|----|----|----|\n",
      "**"
     ]
    },
    {
     "name": "stdout",
     "output_type": "stream",
     "text": [
      "In file:  dataset/obj2\n",
      "Out file:  dataset-d-out/obj2-encoded\n"
     ]
    },
    {
     "name": "stderr",
     "output_type": "stream",
     "text": [
      "*************************************************\n",
      "File size: 102400.\n",
      "0%   10   20   30   40   50   60   70   80   90   100%\n",
      "|----|----|----|----|----|----|----|----|----|----|\n",
      "*****************"
     ]
    },
    {
     "name": "stdout",
     "output_type": "stream",
     "text": [
      "In file:  dataset/geo\n",
      "Out file:  dataset-d-out/geo-encoded\n"
     ]
    },
    {
     "name": "stderr",
     "output_type": "stream",
     "text": [
      "**********************************\n",
      "File size: 93695.\n",
      "0%   10   20   30   40   50   60   70   80   90   100%\n",
      "|----|----|----|----|----|----|----|----|----|----|\n",
      "************"
     ]
    },
    {
     "name": "stdout",
     "output_type": "stream",
     "text": [
      "In file:  dataset/trans\n",
      "Out file:  dataset-d-out/trans-encoded\n"
     ]
    },
    {
     "name": "stderr",
     "output_type": "stream",
     "text": [
      "***************************************\n",
      "File size: 49379.\n",
      "0%   10   20   30   40   50   60   70   80   90   100%\n",
      "|----|----|----|----|----|----|----|----|----|----|\n",
      "**********************"
     ]
    },
    {
     "name": "stdout",
     "output_type": "stream",
     "text": [
      "In file:  dataset/progp\n",
      "Out file:  dataset-d-out/progp-encoded\n"
     ]
    },
    {
     "name": "stderr",
     "output_type": "stream",
     "text": [
      "*****************************\n",
      "File size: 71646.\n",
      "0%   10   20   30   40   50   60   70   80   90   100%\n",
      "|----|----|----|----|----|----|----|----|----|----|\n",
      "***"
     ]
    },
    {
     "name": "stdout",
     "output_type": "stream",
     "text": [
      "In file:  dataset/progl\n",
      "Out file:  dataset-d-out/progl-encoded\n"
     ]
    },
    {
     "name": "stderr",
     "output_type": "stream",
     "text": [
      "************************************************\n",
      "File size: 610856.\n",
      "0%   10   20   30   40   50   60   70   80   90   100%\n",
      "|----|----|----|----|----|----|----|----|----|----|\n",
      "***"
     ]
    },
    {
     "name": "stdout",
     "output_type": "stream",
     "text": [
      "In file:  dataset/book2\n",
      "Out file:  dataset-d-out/book2-encoded\n"
     ]
    },
    {
     "name": "stderr",
     "output_type": "stream",
     "text": [
      "************************************************\n",
      "File size: 53161.\n",
      "0%   10   20   30   40   50   60   70   80   90   100%\n",
      "|----|----|----|----|----|----|----|----|----|----|\n",
      "*********"
     ]
    },
    {
     "name": "stdout",
     "output_type": "stream",
     "text": [
      "In file:  dataset/paper1\n",
      "Out file:  dataset-d-out/paper1-encoded\n"
     ]
    },
    {
     "name": "stderr",
     "output_type": "stream",
     "text": [
      "******************************************\n",
      "File size: 377109.\n",
      "0%   10   20   30   40   50   60   70   80   90   100%\n",
      "|----|----|----|----|----|----|----|----|----|----|\n",
      "*"
     ]
    },
    {
     "name": "stdout",
     "output_type": "stream",
     "text": [
      "In file:  dataset/news\n",
      "Out file:  dataset-d-out/news-encoded\n"
     ]
    },
    {
     "name": "stderr",
     "output_type": "stream",
     "text": [
      "**************************************************\n",
      "File size: 39611.\n",
      "0%   10   20   30   40   50   60   70   80   90   100%\n",
      "|----|----|----|----|----|----|----|----|----|----|\n",
      "********************************************"
     ]
    },
    {
     "name": "stdout",
     "output_type": "stream",
     "text": [
      "In file:  dataset/progc\n",
      "Out file:  dataset-d-out/progc-encoded\n"
     ]
    },
    {
     "name": "stderr",
     "output_type": "stream",
     "text": [
      "*******\n",
      "File size: 13286.\n",
      "0%   10   20   30   40   50   60   70   80   90   100%\n",
      "|----|----|----|----|----|----|----|----|----|----|\n",
      "***************************************************\n",
      "File size: 513216.\n",
      "0%   10   20   30   40   50   60   70   80   90   100%\n",
      "|----|----|----|----|----|----|----|----|----|----|\n",
      "********"
     ]
    },
    {
     "name": "stdout",
     "output_type": "stream",
     "text": [
      "In file:  dataset/paper4\n",
      "Out file:  dataset-d-out/paper4-encoded\n",
      "In file:  dataset/pic\n",
      "Out file:  dataset-d-out/pic-encoded\n"
     ]
    },
    {
     "name": "stderr",
     "output_type": "stream",
     "text": [
      "******"
     ]
    }
   ],
   "source": [
    "do_tests(\"./archiever_d_encoder\", \"dataset\", test_file_names, \"dataset-d-out\")"
   ]
  }
 ],
 "metadata": {
  "kernelspec": {
   "display_name": "Python 3 (ipykernel)",
   "language": "python",
   "name": "python3"
  },
  "language_info": {
   "codemirror_mode": {
    "name": "ipython",
    "version": 3
   },
   "file_extension": ".py",
   "mimetype": "text/x-python",
   "name": "python",
   "nbconvert_exporter": "python",
   "pygments_lexer": "ipython3",
   "version": "3.10.9"
  }
 },
 "nbformat": 4,
 "nbformat_minor": 5
}
