{
 "cells": [
  {
   "cell_type": "code",
   "execution_count": 79,
   "id": "a42d29d1",
   "metadata": {},
   "outputs": [],
   "source": [
    "from os import listdir, makedirs, stat\n",
    "from os.path import isfile, join, exists\n",
    "import subprocess"
   ]
  },
  {
   "cell_type": "code",
   "execution_count": 68,
   "id": "b6472111",
   "metadata": {},
   "outputs": [],
   "source": [
    "test_file_names = [f for f in listdir(\"dataset\") if isfile(join(\"dataset\", f))]"
   ]
  },
  {
   "cell_type": "code",
   "execution_count": 69,
   "id": "c14a09dd",
   "metadata": {},
   "outputs": [
    {
     "data": {
      "text/plain": [
       "['obj1',\n",
       " 'obj2',\n",
       " 'geo',\n",
       " 'trans',\n",
       " 'progp',\n",
       " 'progl',\n",
       " 'book2',\n",
       " 'paper1',\n",
       " 'news',\n",
       " 'progc',\n",
       " 'pic',\n",
       " 'bib',\n",
       " 'paper2',\n",
       " 'book1']"
      ]
     },
     "execution_count": 69,
     "metadata": {},
     "output_type": "execute_result"
    }
   ],
   "source": [
    "test_file_names"
   ]
  },
  {
   "cell_type": "code",
   "execution_count": 4,
   "id": "ec389ab0",
   "metadata": {},
   "outputs": [],
   "source": [
    "def test_encode(executable: str, file_in: str, file_out: str, additional_params: str):\n",
    "    subprocess.run(executable + \" -i {} -o {} {}\".format(file_in, file_out, additional_params),\n",
    "                   shell=True, check=True)"
   ]
  },
  {
   "cell_type": "code",
   "execution_count": 75,
   "id": "333d7a28",
   "metadata": {},
   "outputs": [],
   "source": [
    "def do_tests(executable: str, inDir: str, filenames: list, outDir: str,\n",
    "             outPostfix: str, numThreads: int, additionalParams = []):\n",
    "    if not exists(outDir):\n",
    "        makedirs(outDir)\n",
    "    procs = []\n",
    "        \n",
    "    numRuns = (len(filenames) - 1) // numThreads + 1\n",
    "        \n",
    "    for runI in range(numRuns):\n",
    "        lowI = numThreads * runI\n",
    "        highI = min(len(filenames), numThreads * (runI + 1))\n",
    "        print(\"Process files: \", *filenames[lowI:highI])\n",
    "        for filename in filenames[lowI:highI]:\n",
    "            inFile = inDir + \"/\" + filename\n",
    "            outFile = outDir + \"/\" + filename + outPostfix\n",
    "            print(\"In file: {}. \\t Out file: {}\".format(inFile, outFile))\n",
    "            procs.append(subprocess.Popen([executable, \"-i\", inFile, \"-o\",  outFile] + additionalParams))\n",
    "        for p in procs:\n",
    "            p.wait()"
   ]
  },
  {
   "cell_type": "code",
   "execution_count": 6,
   "id": "936121d9",
   "metadata": {},
   "outputs": [
    {
     "name": "stdout",
     "output_type": "stream",
     "text": [
      "Process files:  paper5 obj1 obj2 geo trans progp\n",
      "In file: dataset/paper5. \t Out file: out/dataset-d-out/paper5-encoded\n",
      "In file: dataset/obj1. \t Out file: out/dataset-d-out/obj1-encoded\n",
      "In file: dataset/obj2. \t Out file: out/dataset-d-out/obj2-encoded\n",
      "In file: dataset/geo. \t Out file: out/dataset-d-out/geo-encoded\n",
      "In file: dataset/trans. \t Out file: out/dataset-d-out/trans-encoded\n",
      "In file: dataset/progp. \t Out file: out/dataset-d-out/progp-encoded\n",
      "Process files:  progl book2 paper1 news progc paper4\n",
      "In file: dataset/progl. \t Out file: out/dataset-d-out/progl-encoded\n",
      "In file: dataset/book2. \t Out file: out/dataset-d-out/book2-encoded\n",
      "In file: dataset/paper1. \t Out file: out/dataset-d-out/paper1-encoded\n",
      "In file: dataset/news. \t Out file: out/dataset-d-out/news-encoded\n",
      "In file: dataset/progc. \t Out file: out/dataset-d-out/progc-encoded\n",
      "In file: dataset/paper4. \t Out file: out/dataset-d-out/paper4-encoded\n",
      "Process files:  pic bib paper2 book1 paper3 paper6\n",
      "In file: dataset/pic. \t Out file: out/dataset-d-out/pic-encoded\n",
      "In file: dataset/bib. \t Out file: out/dataset-d-out/bib-encoded\n",
      "In file: dataset/paper2. \t Out file: out/dataset-d-out/paper2-encoded\n",
      "In file: dataset/book1. \t Out file: out/dataset-d-out/book1-encoded\n",
      "In file: dataset/paper3. \t Out file: out/dataset-d-out/paper3-encoded\n",
      "In file: dataset/paper6. \t Out file: out/dataset-d-out/paper6-encoded\n"
     ]
    }
   ],
   "source": [
    "do_tests(\"./exe/archiever_d_encoder\", \"dataset\", test_file_names,\n",
    "         \"out/dataset-d-out\", \"-encoded\", 6, [\"-b\", \"8\", \"-l\", \"off\"])"
   ]
  },
  {
   "cell_type": "code",
   "execution_count": 10,
   "id": "76ce7982",
   "metadata": {},
   "outputs": [
    {
     "name": "stdout",
     "output_type": "stream",
     "text": [
      "Process files:  paper5 obj1 obj2 geo trans progp progl book2 paper1 news progc paper4 pic bib paper2 book1 paper3 paper6\n",
      "In file: dataset/paper5. \t Out file: out/dataset-d-out-1502-29/paper5-encoded\n",
      "In file: dataset/obj1. \t Out file: out/dataset-d-out-1502-29/obj1-encoded\n",
      "In file: dataset/obj2. \t Out file: out/dataset-d-out-1502-29/obj2-encoded\n",
      "In file: dataset/geo. \t Out file: out/dataset-d-out-1502-29/geo-encoded\n",
      "In file: dataset/trans. \t Out file: out/dataset-d-out-1502-29/trans-encoded\n",
      "In file: dataset/progp. \t Out file: out/dataset-d-out-1502-29/progp-encoded\n",
      "In file: dataset/progl. \t Out file: out/dataset-d-out-1502-29/progl-encoded\n",
      "In file: dataset/book2. \t Out file: out/dataset-d-out-1502-29/book2-encoded\n",
      "In file: dataset/paper1. \t Out file: out/dataset-d-out-1502-29/paper1-encoded\n",
      "In file: dataset/news. \t Out file: out/dataset-d-out-1502-29/news-encoded\n",
      "In file: dataset/progc. \t Out file: out/dataset-d-out-1502-29/progc-encoded\n",
      "In file: dataset/paper4. \t Out file: out/dataset-d-out-1502-29/paper4-encoded\n",
      "In file: dataset/pic. \t Out file: out/dataset-d-out-1502-29/pic-encoded\n",
      "In file: dataset/bib. \t Out file: out/dataset-d-out-1502-29/bib-encoded\n",
      "In file: dataset/paper2. \t Out file: out/dataset-d-out-1502-29/paper2-encoded\n",
      "In file: dataset/book1. \t Out file: out/dataset-d-out-1502-29/book1-encoded\n",
      "In file: dataset/paper3. \t Out file: out/dataset-d-out-1502-29/paper3-encoded\n",
      "In file: dataset/paper6. \t Out file: out/dataset-d-out-1502-29/paper6-encoded\n"
     ]
    },
    {
     "ename": "KeyboardInterrupt",
     "evalue": "",
     "output_type": "error",
     "traceback": [
      "\u001b[0;31m---------------------------------------------------------------------------\u001b[0m",
      "\u001b[0;31mKeyboardInterrupt\u001b[0m                         Traceback (most recent call last)",
      "Input \u001b[0;32mIn [10]\u001b[0m, in \u001b[0;36m<cell line: 1>\u001b[0;34m()\u001b[0m\n\u001b[1;32m      1\u001b[0m \u001b[38;5;28;01mfor\u001b[39;00m bits \u001b[38;5;129;01min\u001b[39;00m \u001b[38;5;28mrange\u001b[39m(\u001b[38;5;241m29\u001b[39m, \u001b[38;5;241m30\u001b[39m):\n\u001b[1;32m      2\u001b[0m     strBits \u001b[38;5;241m=\u001b[39m \u001b[38;5;28mstr\u001b[39m(bits)\n\u001b[0;32m----> 3\u001b[0m     \u001b[43mdo_tests\u001b[49m\u001b[43m(\u001b[49m\u001b[43mexecutable\u001b[49m\u001b[38;5;241;43m=\u001b[39;49m\u001b[38;5;124;43m\"\u001b[39;49m\u001b[38;5;124;43m./exe/archiever_d_encoder\u001b[39;49m\u001b[38;5;124;43m\"\u001b[39;49m\u001b[43m,\u001b[49m\u001b[43m \u001b[49m\n\u001b[1;32m      4\u001b[0m \u001b[43m             \u001b[49m\u001b[43minDir\u001b[49m\u001b[38;5;241;43m=\u001b[39;49m\u001b[38;5;124;43m\"\u001b[39;49m\u001b[38;5;124;43mdataset\u001b[39;49m\u001b[38;5;124;43m\"\u001b[39;49m\u001b[43m,\u001b[49m\u001b[43m \u001b[49m\n\u001b[1;32m      5\u001b[0m \u001b[43m             \u001b[49m\u001b[43mfilenames\u001b[49m\u001b[38;5;241;43m=\u001b[39;49m\u001b[43mtest_file_names\u001b[49m\u001b[43m,\u001b[49m\u001b[43m \u001b[49m\n\u001b[1;32m      6\u001b[0m \u001b[43m             \u001b[49m\u001b[43moutDir\u001b[49m\u001b[38;5;241;43m=\u001b[39;49m\u001b[38;5;124;43m\"\u001b[39;49m\u001b[38;5;124;43mout/dataset-d-out-1502-\u001b[39;49m\u001b[38;5;124;43m\"\u001b[39;49m\u001b[43m \u001b[49m\u001b[38;5;241;43m+\u001b[39;49m\u001b[43m \u001b[49m\u001b[43mstrBits\u001b[49m\u001b[43m,\u001b[49m\u001b[43m \u001b[49m\n\u001b[1;32m      7\u001b[0m \u001b[43m             \u001b[49m\u001b[43moutPostfix\u001b[49m\u001b[38;5;241;43m=\u001b[39;49m\u001b[38;5;124;43m\"\u001b[39;49m\u001b[38;5;124;43m-encoded\u001b[39;49m\u001b[38;5;124;43m\"\u001b[39;49m\u001b[43m,\u001b[49m\n\u001b[1;32m      8\u001b[0m \u001b[43m             \u001b[49m\u001b[43mnumThreads\u001b[49m\u001b[38;5;241;43m=\u001b[39;49m\u001b[38;5;241;43m18\u001b[39;49m\u001b[43m,\u001b[49m\u001b[43m \u001b[49m\n\u001b[1;32m      9\u001b[0m \u001b[43m             \u001b[49m\u001b[43madditionalParams\u001b[49m\u001b[38;5;241;43m=\u001b[39;49m\u001b[43m[\u001b[49m\u001b[38;5;124;43m\"\u001b[39;49m\u001b[38;5;124;43m-b\u001b[39;49m\u001b[38;5;124;43m\"\u001b[39;49m\u001b[43m,\u001b[49m\u001b[43m \u001b[49m\u001b[43mstrBits\u001b[49m\u001b[43m,\u001b[49m\u001b[43m \u001b[49m\u001b[38;5;124;43m\"\u001b[39;49m\u001b[38;5;124;43m-l\u001b[39;49m\u001b[38;5;124;43m\"\u001b[39;49m\u001b[43m,\u001b[49m\u001b[43m \u001b[49m\u001b[38;5;124;43m\"\u001b[39;49m\u001b[38;5;124;43moff\u001b[39;49m\u001b[38;5;124;43m\"\u001b[39;49m\u001b[43m]\u001b[49m\u001b[43m)\u001b[49m\n",
      "Input \u001b[0;32mIn [5]\u001b[0m, in \u001b[0;36mdo_tests\u001b[0;34m(executable, inDir, filenames, outDir, outPostfix, numThreads, additionalParams)\u001b[0m\n\u001b[1;32m     17\u001b[0m     procs\u001b[38;5;241m.\u001b[39mappend(subprocess\u001b[38;5;241m.\u001b[39mPopen([executable, \u001b[38;5;124m\"\u001b[39m\u001b[38;5;124m-i\u001b[39m\u001b[38;5;124m\"\u001b[39m, inFile, \u001b[38;5;124m\"\u001b[39m\u001b[38;5;124m-o\u001b[39m\u001b[38;5;124m\"\u001b[39m,  outFile] \u001b[38;5;241m+\u001b[39m additionalParams))\n\u001b[1;32m     18\u001b[0m \u001b[38;5;28;01mfor\u001b[39;00m p \u001b[38;5;129;01min\u001b[39;00m procs:\n\u001b[0;32m---> 19\u001b[0m     \u001b[43mp\u001b[49m\u001b[38;5;241;43m.\u001b[39;49m\u001b[43mwait\u001b[49m\u001b[43m(\u001b[49m\u001b[43m)\u001b[49m\n",
      "File \u001b[0;32m/usr/lib/python3.10/subprocess.py:1209\u001b[0m, in \u001b[0;36mPopen.wait\u001b[0;34m(self, timeout)\u001b[0m\n\u001b[1;32m   1207\u001b[0m     endtime \u001b[38;5;241m=\u001b[39m _time() \u001b[38;5;241m+\u001b[39m timeout\n\u001b[1;32m   1208\u001b[0m \u001b[38;5;28;01mtry\u001b[39;00m:\n\u001b[0;32m-> 1209\u001b[0m     \u001b[38;5;28;01mreturn\u001b[39;00m \u001b[38;5;28;43mself\u001b[39;49m\u001b[38;5;241;43m.\u001b[39;49m\u001b[43m_wait\u001b[49m\u001b[43m(\u001b[49m\u001b[43mtimeout\u001b[49m\u001b[38;5;241;43m=\u001b[39;49m\u001b[43mtimeout\u001b[49m\u001b[43m)\u001b[49m\n\u001b[1;32m   1210\u001b[0m \u001b[38;5;28;01mexcept\u001b[39;00m \u001b[38;5;167;01mKeyboardInterrupt\u001b[39;00m:\n\u001b[1;32m   1211\u001b[0m     \u001b[38;5;66;03m# https://bugs.python.org/issue25942\u001b[39;00m\n\u001b[1;32m   1212\u001b[0m     \u001b[38;5;66;03m# The first keyboard interrupt waits briefly for the child to\u001b[39;00m\n\u001b[1;32m   1213\u001b[0m     \u001b[38;5;66;03m# exit under the common assumption that it also received the ^C\u001b[39;00m\n\u001b[1;32m   1214\u001b[0m     \u001b[38;5;66;03m# generated SIGINT and will exit rapidly.\u001b[39;00m\n\u001b[1;32m   1215\u001b[0m     \u001b[38;5;28;01mif\u001b[39;00m timeout \u001b[38;5;129;01mis\u001b[39;00m \u001b[38;5;129;01mnot\u001b[39;00m \u001b[38;5;28;01mNone\u001b[39;00m:\n",
      "File \u001b[0;32m/usr/lib/python3.10/subprocess.py:1943\u001b[0m, in \u001b[0;36mPopen._wait\u001b[0;34m(self, timeout)\u001b[0m\n\u001b[1;32m   1941\u001b[0m \u001b[38;5;28;01mif\u001b[39;00m \u001b[38;5;28mself\u001b[39m\u001b[38;5;241m.\u001b[39mreturncode \u001b[38;5;129;01mis\u001b[39;00m \u001b[38;5;129;01mnot\u001b[39;00m \u001b[38;5;28;01mNone\u001b[39;00m:\n\u001b[1;32m   1942\u001b[0m     \u001b[38;5;28;01mbreak\u001b[39;00m  \u001b[38;5;66;03m# Another thread waited.\u001b[39;00m\n\u001b[0;32m-> 1943\u001b[0m (pid, sts) \u001b[38;5;241m=\u001b[39m \u001b[38;5;28;43mself\u001b[39;49m\u001b[38;5;241;43m.\u001b[39;49m\u001b[43m_try_wait\u001b[49m\u001b[43m(\u001b[49m\u001b[38;5;241;43m0\u001b[39;49m\u001b[43m)\u001b[49m\n\u001b[1;32m   1944\u001b[0m \u001b[38;5;66;03m# Check the pid and loop as waitpid has been known to\u001b[39;00m\n\u001b[1;32m   1945\u001b[0m \u001b[38;5;66;03m# return 0 even without WNOHANG in odd situations.\u001b[39;00m\n\u001b[1;32m   1946\u001b[0m \u001b[38;5;66;03m# http://bugs.python.org/issue14396.\u001b[39;00m\n\u001b[1;32m   1947\u001b[0m \u001b[38;5;28;01mif\u001b[39;00m pid \u001b[38;5;241m==\u001b[39m \u001b[38;5;28mself\u001b[39m\u001b[38;5;241m.\u001b[39mpid:\n",
      "File \u001b[0;32m/usr/lib/python3.10/subprocess.py:1901\u001b[0m, in \u001b[0;36mPopen._try_wait\u001b[0;34m(self, wait_flags)\u001b[0m\n\u001b[1;32m   1899\u001b[0m \u001b[38;5;250m\u001b[39m\u001b[38;5;124;03m\"\"\"All callers to this function MUST hold self._waitpid_lock.\"\"\"\u001b[39;00m\n\u001b[1;32m   1900\u001b[0m \u001b[38;5;28;01mtry\u001b[39;00m:\n\u001b[0;32m-> 1901\u001b[0m     (pid, sts) \u001b[38;5;241m=\u001b[39m \u001b[43mos\u001b[49m\u001b[38;5;241;43m.\u001b[39;49m\u001b[43mwaitpid\u001b[49m\u001b[43m(\u001b[49m\u001b[38;5;28;43mself\u001b[39;49m\u001b[38;5;241;43m.\u001b[39;49m\u001b[43mpid\u001b[49m\u001b[43m,\u001b[49m\u001b[43m \u001b[49m\u001b[43mwait_flags\u001b[49m\u001b[43m)\u001b[49m\n\u001b[1;32m   1902\u001b[0m \u001b[38;5;28;01mexcept\u001b[39;00m \u001b[38;5;167;01mChildProcessError\u001b[39;00m:\n\u001b[1;32m   1903\u001b[0m     \u001b[38;5;66;03m# This happens if SIGCLD is set to be ignored or waiting\u001b[39;00m\n\u001b[1;32m   1904\u001b[0m     \u001b[38;5;66;03m# for child processes has otherwise been disabled for our\u001b[39;00m\n\u001b[1;32m   1905\u001b[0m     \u001b[38;5;66;03m# process.  This child is dead, we can't get the status.\u001b[39;00m\n\u001b[1;32m   1906\u001b[0m     pid \u001b[38;5;241m=\u001b[39m \u001b[38;5;28mself\u001b[39m\u001b[38;5;241m.\u001b[39mpid\n",
      "\u001b[0;31mKeyboardInterrupt\u001b[0m: "
     ]
    }
   ],
   "source": [
    "for bits in range(29, 30):\n",
    "    strBits = str(bits)\n",
    "    do_tests(executable=\"./exe/archiever_d_encoder\", \n",
    "             inDir=\"dataset\", \n",
    "             filenames=test_file_names, \n",
    "             outDir=\"out/dataset-d-out-1502-\" + strBits, \n",
    "             outPostfix=\"-encoded\",\n",
    "             numThreads=18, \n",
    "             additionalParams=[\"-b\", strBits, \"-l\", \"off\"])"
   ]
  },
  {
   "cell_type": "code",
   "execution_count": 9,
   "id": "763a3aae",
   "metadata": {},
   "outputs": [
    {
     "name": "stdout",
     "output_type": "stream",
     "text": [
      "Process files:  paper5-encoded obj1-encoded obj2-encoded geo-encoded trans-encoded progp-encoded progl-encoded book2-encoded paper1-encoded news-encoded progc-encoded paper4-encoded pic-encoded bib-encoded paper2-encoded book1-encoded paper3-encoded paper6-encoded\n",
      "In file: out/dataset-d-out-8/paper5-encoded. \t Out file: out/dataset-d-decoded-8/paper5-encoded-decoded\n",
      "In file: out/dataset-d-out-8/obj1-encoded. \t Out file: out/dataset-d-decoded-8/obj1-encoded-decoded\n",
      "In file: out/dataset-d-out-8/obj2-encoded. \t Out file: out/dataset-d-decoded-8/obj2-encoded-decoded\n",
      "In file: out/dataset-d-out-8/geo-encoded. \t Out file: out/dataset-d-decoded-8/geo-encoded-decoded\n",
      "In file: out/dataset-d-out-8/trans-encoded. \t Out file: out/dataset-d-decoded-8/trans-encoded-decoded\n",
      "In file: out/dataset-d-out-8/progp-encoded. \t Out file: out/dataset-d-decoded-8/progp-encoded-decoded\n",
      "In file: out/dataset-d-out-8/progl-encoded. \t Out file: out/dataset-d-decoded-8/progl-encoded-decoded\n",
      "In file: out/dataset-d-out-8/book2-encoded. \t Out file: out/dataset-d-decoded-8/book2-encoded-decoded\n",
      "In file: out/dataset-d-out-8/paper1-encoded. \t Out file: out/dataset-d-decoded-8/paper1-encoded-decoded\n",
      "In file: out/dataset-d-out-8/news-encoded. \t Out file: out/dataset-d-decoded-8/news-encoded-decoded\n",
      "In file: out/dataset-d-out-8/progc-encoded. \t Out file: out/dataset-d-decoded-8/progc-encoded-decoded\n",
      "In file: out/dataset-d-out-8/paper4-encoded. \t Out file: out/dataset-d-decoded-8/paper4-encoded-decoded\n",
      "In file: out/dataset-d-out-8/pic-encoded. \t Out file: out/dataset-d-decoded-8/pic-encoded-decoded\n",
      "In file: out/dataset-d-out-8/bib-encoded. \t Out file: out/dataset-d-decoded-8/bib-encoded-decoded\n",
      "In file: out/dataset-d-out-8/paper2-encoded. \t Out file: out/dataset-d-decoded-8/paper2-encoded-decoded\n",
      "In file: out/dataset-d-out-8/book1-encoded. \t Out file: out/dataset-d-decoded-8/book1-encoded-decoded\n",
      "In file: out/dataset-d-out-8/paper3-encoded. \t Out file: out/dataset-d-decoded-8/paper3-encoded-decoded\n",
      "In file: out/dataset-d-out-8/paper6-encoded. \t Out file: out/dataset-d-decoded-8/paper6-encoded-decoded\n",
      "Process files:  paper5-encoded obj1-encoded obj2-encoded geo-encoded trans-encoded progp-encoded progl-encoded book2-encoded paper1-encoded news-encoded progc-encoded paper4-encoded pic-encoded bib-encoded paper2-encoded book1-encoded paper3-encoded paper6-encoded\n",
      "In file: out/dataset-d-out-9/paper5-encoded. \t Out file: out/dataset-d-decoded-9/paper5-encoded-decoded\n",
      "In file: out/dataset-d-out-9/obj1-encoded. \t Out file: out/dataset-d-decoded-9/obj1-encoded-decoded\n",
      "In file: out/dataset-d-out-9/obj2-encoded. \t Out file: out/dataset-d-decoded-9/obj2-encoded-decoded\n",
      "In file: out/dataset-d-out-9/geo-encoded. \t Out file: out/dataset-d-decoded-9/geo-encoded-decoded\n",
      "In file: out/dataset-d-out-9/trans-encoded. \t Out file: out/dataset-d-decoded-9/trans-encoded-decoded\n",
      "In file: out/dataset-d-out-9/progp-encoded. \t Out file: out/dataset-d-decoded-9/progp-encoded-decoded\n",
      "In file: out/dataset-d-out-9/progl-encoded. \t Out file: out/dataset-d-decoded-9/progl-encoded-decoded\n",
      "In file: out/dataset-d-out-9/book2-encoded. \t Out file: out/dataset-d-decoded-9/book2-encoded-decoded\n",
      "In file: out/dataset-d-out-9/paper1-encoded. \t Out file: out/dataset-d-decoded-9/paper1-encoded-decoded\n",
      "In file: out/dataset-d-out-9/news-encoded. \t Out file: out/dataset-d-decoded-9/news-encoded-decoded\n",
      "In file: out/dataset-d-out-9/progc-encoded. \t Out file: out/dataset-d-decoded-9/progc-encoded-decoded\n",
      "In file: out/dataset-d-out-9/paper4-encoded. \t Out file: out/dataset-d-decoded-9/paper4-encoded-decoded\n",
      "In file: out/dataset-d-out-9/pic-encoded. \t Out file: out/dataset-d-decoded-9/pic-encoded-decoded\n",
      "In file: out/dataset-d-out-9/bib-encoded. \t Out file: out/dataset-d-decoded-9/bib-encoded-decoded\n",
      "In file: out/dataset-d-out-9/paper2-encoded. \t Out file: out/dataset-d-decoded-9/paper2-encoded-decoded\n",
      "In file: out/dataset-d-out-9/book1-encoded. \t Out file: out/dataset-d-decoded-9/book1-encoded-decoded\n",
      "In file: out/dataset-d-out-9/paper3-encoded. \t Out file: out/dataset-d-decoded-9/paper3-encoded-decoded\n",
      "In file: out/dataset-d-out-9/paper6-encoded. \t Out file: out/dataset-d-decoded-9/paper6-encoded-decoded\n",
      "Process files:  paper5-encoded obj1-encoded obj2-encoded geo-encoded trans-encoded progp-encoded progl-encoded book2-encoded paper1-encoded news-encoded progc-encoded paper4-encoded pic-encoded bib-encoded paper2-encoded book1-encoded paper3-encoded paper6-encoded\n",
      "In file: out/dataset-d-out-10/paper5-encoded. \t Out file: out/dataset-d-decoded-10/paper5-encoded-decoded\n",
      "In file: out/dataset-d-out-10/obj1-encoded. \t Out file: out/dataset-d-decoded-10/obj1-encoded-decoded\n",
      "In file: out/dataset-d-out-10/obj2-encoded. \t Out file: out/dataset-d-decoded-10/obj2-encoded-decoded\n",
      "In file: out/dataset-d-out-10/geo-encoded. \t Out file: out/dataset-d-decoded-10/geo-encoded-decoded\n",
      "In file: out/dataset-d-out-10/trans-encoded. \t Out file: out/dataset-d-decoded-10/trans-encoded-decoded\n",
      "In file: out/dataset-d-out-10/progp-encoded. \t Out file: out/dataset-d-decoded-10/progp-encoded-decoded\n",
      "In file: out/dataset-d-out-10/progl-encoded. \t Out file: out/dataset-d-decoded-10/progl-encoded-decoded\n",
      "In file: out/dataset-d-out-10/book2-encoded. \t Out file: out/dataset-d-decoded-10/book2-encoded-decoded\n",
      "In file: out/dataset-d-out-10/paper1-encoded. \t Out file: out/dataset-d-decoded-10/paper1-encoded-decoded\n",
      "In file: out/dataset-d-out-10/news-encoded. \t Out file: out/dataset-d-decoded-10/news-encoded-decoded\n",
      "In file: out/dataset-d-out-10/progc-encoded. \t Out file: out/dataset-d-decoded-10/progc-encoded-decoded\n",
      "In file: out/dataset-d-out-10/paper4-encoded. \t Out file: out/dataset-d-decoded-10/paper4-encoded-decoded\n",
      "In file: out/dataset-d-out-10/pic-encoded. \t Out file: out/dataset-d-decoded-10/pic-encoded-decoded\n",
      "In file: out/dataset-d-out-10/bib-encoded. \t Out file: out/dataset-d-decoded-10/bib-encoded-decoded\n",
      "In file: out/dataset-d-out-10/paper2-encoded. \t Out file: out/dataset-d-decoded-10/paper2-encoded-decoded\n",
      "In file: out/dataset-d-out-10/book1-encoded. \t Out file: out/dataset-d-decoded-10/book1-encoded-decoded\n",
      "In file: out/dataset-d-out-10/paper3-encoded. \t Out file: out/dataset-d-decoded-10/paper3-encoded-decoded\n",
      "In file: out/dataset-d-out-10/paper6-encoded. \t Out file: out/dataset-d-decoded-10/paper6-encoded-decoded\n",
      "Process files:  paper5-encoded obj1-encoded obj2-encoded geo-encoded trans-encoded progp-encoded progl-encoded book2-encoded paper1-encoded news-encoded progc-encoded paper4-encoded pic-encoded bib-encoded paper2-encoded book1-encoded paper3-encoded paper6-encoded\n",
      "In file: out/dataset-d-out-11/paper5-encoded. \t Out file: out/dataset-d-decoded-11/paper5-encoded-decoded\n",
      "In file: out/dataset-d-out-11/obj1-encoded. \t Out file: out/dataset-d-decoded-11/obj1-encoded-decoded\n",
      "In file: out/dataset-d-out-11/obj2-encoded. \t Out file: out/dataset-d-decoded-11/obj2-encoded-decoded\n",
      "In file: out/dataset-d-out-11/geo-encoded. \t Out file: out/dataset-d-decoded-11/geo-encoded-decoded\n",
      "In file: out/dataset-d-out-11/trans-encoded. \t Out file: out/dataset-d-decoded-11/trans-encoded-decoded\n",
      "In file: out/dataset-d-out-11/progp-encoded. \t Out file: out/dataset-d-decoded-11/progp-encoded-decoded\n",
      "In file: out/dataset-d-out-11/progl-encoded. \t Out file: out/dataset-d-decoded-11/progl-encoded-decoded\n",
      "In file: out/dataset-d-out-11/book2-encoded. \t Out file: out/dataset-d-decoded-11/book2-encoded-decoded\n",
      "In file: out/dataset-d-out-11/paper1-encoded. \t Out file: out/dataset-d-decoded-11/paper1-encoded-decoded\n",
      "In file: out/dataset-d-out-11/news-encoded. \t Out file: out/dataset-d-decoded-11/news-encoded-decoded\n",
      "In file: out/dataset-d-out-11/progc-encoded. \t Out file: out/dataset-d-decoded-11/progc-encoded-decoded\n",
      "In file: out/dataset-d-out-11/paper4-encoded. \t Out file: out/dataset-d-decoded-11/paper4-encoded-decoded\n",
      "In file: out/dataset-d-out-11/pic-encoded. \t Out file: out/dataset-d-decoded-11/pic-encoded-decoded\n",
      "In file: out/dataset-d-out-11/bib-encoded. \t Out file: out/dataset-d-decoded-11/bib-encoded-decoded\n",
      "In file: out/dataset-d-out-11/paper2-encoded. \t Out file: out/dataset-d-decoded-11/paper2-encoded-decoded\n",
      "In file: out/dataset-d-out-11/book1-encoded. \t Out file: out/dataset-d-decoded-11/book1-encoded-decoded\n",
      "In file: out/dataset-d-out-11/paper3-encoded. \t Out file: out/dataset-d-decoded-11/paper3-encoded-decoded\n",
      "In file: out/dataset-d-out-11/paper6-encoded. \t Out file: out/dataset-d-decoded-11/paper6-encoded-decoded\n"
     ]
    },
    {
     "name": "stdout",
     "output_type": "stream",
     "text": [
      "Process files:  paper5-encoded obj1-encoded obj2-encoded geo-encoded trans-encoded progp-encoded progl-encoded book2-encoded paper1-encoded news-encoded progc-encoded paper4-encoded pic-encoded bib-encoded paper2-encoded book1-encoded paper3-encoded paper6-encoded\n",
      "In file: out/dataset-d-out-12/paper5-encoded. \t Out file: out/dataset-d-decoded-12/paper5-encoded-decoded\n",
      "In file: out/dataset-d-out-12/obj1-encoded. \t Out file: out/dataset-d-decoded-12/obj1-encoded-decoded\n",
      "In file: out/dataset-d-out-12/obj2-encoded. \t Out file: out/dataset-d-decoded-12/obj2-encoded-decoded\n",
      "In file: out/dataset-d-out-12/geo-encoded. \t Out file: out/dataset-d-decoded-12/geo-encoded-decoded\n",
      "In file: out/dataset-d-out-12/trans-encoded. \t Out file: out/dataset-d-decoded-12/trans-encoded-decoded\n",
      "In file: out/dataset-d-out-12/progp-encoded. \t Out file: out/dataset-d-decoded-12/progp-encoded-decoded\n",
      "In file: out/dataset-d-out-12/progl-encoded. \t Out file: out/dataset-d-decoded-12/progl-encoded-decoded\n",
      "In file: out/dataset-d-out-12/book2-encoded. \t Out file: out/dataset-d-decoded-12/book2-encoded-decoded\n",
      "In file: out/dataset-d-out-12/paper1-encoded. \t Out file: out/dataset-d-decoded-12/paper1-encoded-decoded\n",
      "In file: out/dataset-d-out-12/news-encoded. \t Out file: out/dataset-d-decoded-12/news-encoded-decoded\n",
      "In file: out/dataset-d-out-12/progc-encoded. \t Out file: out/dataset-d-decoded-12/progc-encoded-decoded\n",
      "In file: out/dataset-d-out-12/paper4-encoded. \t Out file: out/dataset-d-decoded-12/paper4-encoded-decoded\n",
      "In file: out/dataset-d-out-12/pic-encoded. \t Out file: out/dataset-d-decoded-12/pic-encoded-decoded\n",
      "In file: out/dataset-d-out-12/bib-encoded. \t Out file: out/dataset-d-decoded-12/bib-encoded-decoded\n",
      "In file: out/dataset-d-out-12/paper2-encoded. \t Out file: out/dataset-d-decoded-12/paper2-encoded-decoded\n",
      "In file: out/dataset-d-out-12/book1-encoded. \t Out file: out/dataset-d-decoded-12/book1-encoded-decoded\n",
      "In file: out/dataset-d-out-12/paper3-encoded. \t Out file: out/dataset-d-decoded-12/paper3-encoded-decoded\n",
      "In file: out/dataset-d-out-12/paper6-encoded. \t Out file: out/dataset-d-decoded-12/paper6-encoded-decoded\n",
      "Process files:  paper5-encoded obj1-encoded obj2-encoded geo-encoded trans-encoded progp-encoded progl-encoded book2-encoded paper1-encoded news-encoded progc-encoded paper4-encoded pic-encoded bib-encoded paper2-encoded book1-encoded paper3-encoded paper6-encoded\n",
      "In file: out/dataset-d-out-13/paper5-encoded. \t Out file: out/dataset-d-decoded-13/paper5-encoded-decoded\n",
      "In file: out/dataset-d-out-13/obj1-encoded. \t Out file: out/dataset-d-decoded-13/obj1-encoded-decoded\n",
      "In file: out/dataset-d-out-13/obj2-encoded. \t Out file: out/dataset-d-decoded-13/obj2-encoded-decoded\n",
      "In file: out/dataset-d-out-13/geo-encoded. \t Out file: out/dataset-d-decoded-13/geo-encoded-decoded\n",
      "In file: out/dataset-d-out-13/trans-encoded. \t Out file: out/dataset-d-decoded-13/trans-encoded-decoded\n",
      "In file: out/dataset-d-out-13/progp-encoded. \t Out file: out/dataset-d-decoded-13/progp-encoded-decoded\n",
      "In file: out/dataset-d-out-13/progl-encoded. \t Out file: out/dataset-d-decoded-13/progl-encoded-decoded\n",
      "In file: out/dataset-d-out-13/book2-encoded. \t Out file: out/dataset-d-decoded-13/book2-encoded-decoded\n",
      "In file: out/dataset-d-out-13/paper1-encoded. \t Out file: out/dataset-d-decoded-13/paper1-encoded-decoded\n",
      "In file: out/dataset-d-out-13/news-encoded. \t Out file: out/dataset-d-decoded-13/news-encoded-decoded\n",
      "In file: out/dataset-d-out-13/progc-encoded. \t Out file: out/dataset-d-decoded-13/progc-encoded-decoded\n",
      "In file: out/dataset-d-out-13/paper4-encoded. \t Out file: out/dataset-d-decoded-13/paper4-encoded-decoded\n",
      "In file: out/dataset-d-out-13/pic-encoded. \t Out file: out/dataset-d-decoded-13/pic-encoded-decoded\n",
      "In file: out/dataset-d-out-13/bib-encoded. \t Out file: out/dataset-d-decoded-13/bib-encoded-decoded\n",
      "In file: out/dataset-d-out-13/paper2-encoded. \t Out file: out/dataset-d-decoded-13/paper2-encoded-decoded\n",
      "In file: out/dataset-d-out-13/book1-encoded. \t Out file: out/dataset-d-decoded-13/book1-encoded-decoded\n",
      "In file: out/dataset-d-out-13/paper3-encoded. \t Out file: out/dataset-d-decoded-13/paper3-encoded-decoded\n",
      "In file: out/dataset-d-out-13/paper6-encoded. \t Out file: out/dataset-d-decoded-13/paper6-encoded-decoded\n"
     ]
    }
   ],
   "source": [
    "for bits in range(8, 14):\n",
    "    strBits = str(bits)\n",
    "    encodedFileNames = [filename + \"-encoded\" for filename in test_file_names]\n",
    "    do_tests(executable=\"./exe/archiever_d_decoder\",\n",
    "             inDir=\"out/dataset-d-out-\" + strBits,\n",
    "             filenames=encodedFileNames,\n",
    "             outDir=\"out/dataset-d-decoded-\" + strBits,\n",
    "             outPostfix=\"-decoded\",\n",
    "             numThreads=18,\n",
    "             additionalParams=[\"-l\", \"off\"])"
   ]
  },
  {
   "cell_type": "code",
   "execution_count": 20,
   "id": "7572c970",
   "metadata": {},
   "outputs": [
    {
     "name": "stdout",
     "output_type": "stream",
     "text": [
      "Process files:  obj1 obj2 geo trans\n",
      "In file: dataset/obj1. \t Out file: out/dataset-14-ppmd-improved-out-8-2-8/obj1-encoded\n",
      "In file: dataset/obj2. \t Out file: out/dataset-14-ppmd-improved-out-8-2-8/obj2-encoded\n",
      "In file: dataset/geo. \t Out file: out/dataset-14-ppmd-improved-out-8-2-8/geo-encoded\n",
      "In file: dataset/trans. \t Out file: out/dataset-14-ppmd-improved-out-8-2-8/trans-encoded\n",
      "Process files:  progp progl book2 paper1\n",
      "In file: dataset/progp. \t Out file: out/dataset-14-ppmd-improved-out-8-2-8/progp-encoded\n",
      "In file: dataset/progl. \t Out file: out/dataset-14-ppmd-improved-out-8-2-8/progl-encoded\n",
      "In file: dataset/book2. \t Out file: out/dataset-14-ppmd-improved-out-8-2-8/book2-encoded\n",
      "In file: dataset/paper1. \t Out file: out/dataset-14-ppmd-improved-out-8-2-8/paper1-encoded\n",
      "Process files:  news progc pic bib\n",
      "In file: dataset/news. \t Out file: out/dataset-14-ppmd-improved-out-8-2-8/news-encoded\n",
      "In file: dataset/progc. \t Out file: out/dataset-14-ppmd-improved-out-8-2-8/progc-encoded\n",
      "In file: dataset/pic. \t Out file: out/dataset-14-ppmd-improved-out-8-2-8/pic-encoded\n",
      "In file: dataset/bib. \t Out file: out/dataset-14-ppmd-improved-out-8-2-8/bib-encoded\n"
     ]
    },
    {
     "ename": "KeyboardInterrupt",
     "evalue": "",
     "output_type": "error",
     "traceback": [
      "\u001b[0;31m---------------------------------------------------------------------------\u001b[0m",
      "\u001b[0;31mKeyboardInterrupt\u001b[0m                         Traceback (most recent call last)",
      "Input \u001b[0;32mIn [20]\u001b[0m, in \u001b[0;36m<cell line: 1>\u001b[0;34m()\u001b[0m\n\u001b[0;32m----> 1\u001b[0m \u001b[43mdo_tests\u001b[49m\u001b[43m(\u001b[49m\u001b[43mexecutable\u001b[49m\u001b[38;5;241;43m=\u001b[39;49m\u001b[38;5;124;43m\"\u001b[39;49m\u001b[38;5;124;43m./exe/ppmd_encoder\u001b[39;49m\u001b[38;5;124;43m\"\u001b[39;49m\u001b[43m,\u001b[49m\u001b[43m \u001b[49m\n\u001b[1;32m      2\u001b[0m \u001b[43m             \u001b[49m\u001b[43minDir\u001b[49m\u001b[38;5;241;43m=\u001b[39;49m\u001b[38;5;124;43m\"\u001b[39;49m\u001b[38;5;124;43mdataset\u001b[39;49m\u001b[38;5;124;43m\"\u001b[39;49m\u001b[43m,\u001b[49m\u001b[43m \u001b[49m\n\u001b[1;32m      3\u001b[0m \u001b[43m             \u001b[49m\u001b[43mfilenames\u001b[49m\u001b[38;5;241;43m=\u001b[39;49m\u001b[43mtest_file_names\u001b[49m\u001b[43m,\u001b[49m\u001b[43m \u001b[49m\n\u001b[1;32m      4\u001b[0m \u001b[43m             \u001b[49m\u001b[43moutDir\u001b[49m\u001b[38;5;241;43m=\u001b[39;49m\u001b[38;5;124;43m\"\u001b[39;49m\u001b[38;5;124;43mout/dataset-14-ppmd-improved-out-8-2-8\u001b[39;49m\u001b[38;5;124;43m\"\u001b[39;49m\u001b[43m,\u001b[49m\u001b[43m \u001b[49m\n\u001b[1;32m      5\u001b[0m \u001b[43m             \u001b[49m\u001b[43moutPostfix\u001b[49m\u001b[38;5;241;43m=\u001b[39;49m\u001b[38;5;124;43m\"\u001b[39;49m\u001b[38;5;124;43m-encoded\u001b[39;49m\u001b[38;5;124;43m\"\u001b[39;49m\u001b[43m,\u001b[49m\n\u001b[1;32m      6\u001b[0m \u001b[43m             \u001b[49m\u001b[43mnumThreads\u001b[49m\u001b[38;5;241;43m=\u001b[39;49m\u001b[38;5;241;43m4\u001b[39;49m\u001b[43m,\u001b[49m\u001b[43m \u001b[49m\n\u001b[1;32m      7\u001b[0m \u001b[43m             \u001b[49m\u001b[43madditionalParams\u001b[49m\u001b[38;5;241;43m=\u001b[39;49m\u001b[43m[\u001b[49m\u001b[38;5;124;43m\"\u001b[39;49m\u001b[38;5;124;43m-b\u001b[39;49m\u001b[38;5;124;43m\"\u001b[39;49m\u001b[43m,\u001b[49m\u001b[43m \u001b[49m\u001b[38;5;124;43m\"\u001b[39;49m\u001b[38;5;124;43m8\u001b[39;49m\u001b[38;5;124;43m\"\u001b[39;49m\u001b[43m,\u001b[49m\u001b[43m \u001b[49m\u001b[38;5;124;43m\"\u001b[39;49m\u001b[38;5;124;43m-l\u001b[39;49m\u001b[38;5;124;43m\"\u001b[39;49m\u001b[43m,\u001b[49m\u001b[43m \u001b[49m\u001b[38;5;124;43m\"\u001b[39;49m\u001b[38;5;124;43moff\u001b[39;49m\u001b[38;5;124;43m\"\u001b[39;49m\u001b[43m,\u001b[49m\u001b[43m \u001b[49m\u001b[38;5;124;43m\"\u001b[39;49m\u001b[38;5;124;43m-c\u001b[39;49m\u001b[38;5;124;43m\"\u001b[39;49m\u001b[43m,\u001b[49m\u001b[43m \u001b[49m\u001b[38;5;124;43m\"\u001b[39;49m\u001b[38;5;124;43m2\u001b[39;49m\u001b[38;5;124;43m\"\u001b[39;49m\u001b[43m,\u001b[49m\u001b[43m \u001b[49m\u001b[38;5;124;43m\"\u001b[39;49m\u001b[38;5;124;43m-q\u001b[39;49m\u001b[38;5;124;43m\"\u001b[39;49m\u001b[43m,\u001b[49m\u001b[43m \u001b[49m\u001b[38;5;124;43m\"\u001b[39;49m\u001b[38;5;124;43m8\u001b[39;49m\u001b[38;5;124;43m\"\u001b[39;49m\u001b[43m]\u001b[49m\u001b[43m)\u001b[49m\n",
      "Input \u001b[0;32mIn [5]\u001b[0m, in \u001b[0;36mdo_tests\u001b[0;34m(executable, inDir, filenames, outDir, outPostfix, numThreads, additionalParams)\u001b[0m\n\u001b[1;32m     17\u001b[0m     procs\u001b[38;5;241m.\u001b[39mappend(subprocess\u001b[38;5;241m.\u001b[39mPopen([executable, \u001b[38;5;124m\"\u001b[39m\u001b[38;5;124m-i\u001b[39m\u001b[38;5;124m\"\u001b[39m, inFile, \u001b[38;5;124m\"\u001b[39m\u001b[38;5;124m-o\u001b[39m\u001b[38;5;124m\"\u001b[39m,  outFile] \u001b[38;5;241m+\u001b[39m additionalParams))\n\u001b[1;32m     18\u001b[0m \u001b[38;5;28;01mfor\u001b[39;00m p \u001b[38;5;129;01min\u001b[39;00m procs:\n\u001b[0;32m---> 19\u001b[0m     \u001b[43mp\u001b[49m\u001b[38;5;241;43m.\u001b[39;49m\u001b[43mwait\u001b[49m\u001b[43m(\u001b[49m\u001b[43m)\u001b[49m\n",
      "File \u001b[0;32m/usr/lib/python3.10/subprocess.py:1209\u001b[0m, in \u001b[0;36mPopen.wait\u001b[0;34m(self, timeout)\u001b[0m\n\u001b[1;32m   1207\u001b[0m     endtime \u001b[38;5;241m=\u001b[39m _time() \u001b[38;5;241m+\u001b[39m timeout\n\u001b[1;32m   1208\u001b[0m \u001b[38;5;28;01mtry\u001b[39;00m:\n\u001b[0;32m-> 1209\u001b[0m     \u001b[38;5;28;01mreturn\u001b[39;00m \u001b[38;5;28;43mself\u001b[39;49m\u001b[38;5;241;43m.\u001b[39;49m\u001b[43m_wait\u001b[49m\u001b[43m(\u001b[49m\u001b[43mtimeout\u001b[49m\u001b[38;5;241;43m=\u001b[39;49m\u001b[43mtimeout\u001b[49m\u001b[43m)\u001b[49m\n\u001b[1;32m   1210\u001b[0m \u001b[38;5;28;01mexcept\u001b[39;00m \u001b[38;5;167;01mKeyboardInterrupt\u001b[39;00m:\n\u001b[1;32m   1211\u001b[0m     \u001b[38;5;66;03m# https://bugs.python.org/issue25942\u001b[39;00m\n\u001b[1;32m   1212\u001b[0m     \u001b[38;5;66;03m# The first keyboard interrupt waits briefly for the child to\u001b[39;00m\n\u001b[1;32m   1213\u001b[0m     \u001b[38;5;66;03m# exit under the common assumption that it also received the ^C\u001b[39;00m\n\u001b[1;32m   1214\u001b[0m     \u001b[38;5;66;03m# generated SIGINT and will exit rapidly.\u001b[39;00m\n\u001b[1;32m   1215\u001b[0m     \u001b[38;5;28;01mif\u001b[39;00m timeout \u001b[38;5;129;01mis\u001b[39;00m \u001b[38;5;129;01mnot\u001b[39;00m \u001b[38;5;28;01mNone\u001b[39;00m:\n",
      "File \u001b[0;32m/usr/lib/python3.10/subprocess.py:1943\u001b[0m, in \u001b[0;36mPopen._wait\u001b[0;34m(self, timeout)\u001b[0m\n\u001b[1;32m   1941\u001b[0m \u001b[38;5;28;01mif\u001b[39;00m \u001b[38;5;28mself\u001b[39m\u001b[38;5;241m.\u001b[39mreturncode \u001b[38;5;129;01mis\u001b[39;00m \u001b[38;5;129;01mnot\u001b[39;00m \u001b[38;5;28;01mNone\u001b[39;00m:\n\u001b[1;32m   1942\u001b[0m     \u001b[38;5;28;01mbreak\u001b[39;00m  \u001b[38;5;66;03m# Another thread waited.\u001b[39;00m\n\u001b[0;32m-> 1943\u001b[0m (pid, sts) \u001b[38;5;241m=\u001b[39m \u001b[38;5;28;43mself\u001b[39;49m\u001b[38;5;241;43m.\u001b[39;49m\u001b[43m_try_wait\u001b[49m\u001b[43m(\u001b[49m\u001b[38;5;241;43m0\u001b[39;49m\u001b[43m)\u001b[49m\n\u001b[1;32m   1944\u001b[0m \u001b[38;5;66;03m# Check the pid and loop as waitpid has been known to\u001b[39;00m\n\u001b[1;32m   1945\u001b[0m \u001b[38;5;66;03m# return 0 even without WNOHANG in odd situations.\u001b[39;00m\n\u001b[1;32m   1946\u001b[0m \u001b[38;5;66;03m# http://bugs.python.org/issue14396.\u001b[39;00m\n\u001b[1;32m   1947\u001b[0m \u001b[38;5;28;01mif\u001b[39;00m pid \u001b[38;5;241m==\u001b[39m \u001b[38;5;28mself\u001b[39m\u001b[38;5;241m.\u001b[39mpid:\n",
      "File \u001b[0;32m/usr/lib/python3.10/subprocess.py:1901\u001b[0m, in \u001b[0;36mPopen._try_wait\u001b[0;34m(self, wait_flags)\u001b[0m\n\u001b[1;32m   1899\u001b[0m \u001b[38;5;250m\u001b[39m\u001b[38;5;124;03m\"\"\"All callers to this function MUST hold self._waitpid_lock.\"\"\"\u001b[39;00m\n\u001b[1;32m   1900\u001b[0m \u001b[38;5;28;01mtry\u001b[39;00m:\n\u001b[0;32m-> 1901\u001b[0m     (pid, sts) \u001b[38;5;241m=\u001b[39m \u001b[43mos\u001b[49m\u001b[38;5;241;43m.\u001b[39;49m\u001b[43mwaitpid\u001b[49m\u001b[43m(\u001b[49m\u001b[38;5;28;43mself\u001b[39;49m\u001b[38;5;241;43m.\u001b[39;49m\u001b[43mpid\u001b[49m\u001b[43m,\u001b[49m\u001b[43m \u001b[49m\u001b[43mwait_flags\u001b[49m\u001b[43m)\u001b[49m\n\u001b[1;32m   1902\u001b[0m \u001b[38;5;28;01mexcept\u001b[39;00m \u001b[38;5;167;01mChildProcessError\u001b[39;00m:\n\u001b[1;32m   1903\u001b[0m     \u001b[38;5;66;03m# This happens if SIGCLD is set to be ignored or waiting\u001b[39;00m\n\u001b[1;32m   1904\u001b[0m     \u001b[38;5;66;03m# for child processes has otherwise been disabled for our\u001b[39;00m\n\u001b[1;32m   1905\u001b[0m     \u001b[38;5;66;03m# process.  This child is dead, we can't get the status.\u001b[39;00m\n\u001b[1;32m   1906\u001b[0m     pid \u001b[38;5;241m=\u001b[39m \u001b[38;5;28mself\u001b[39m\u001b[38;5;241m.\u001b[39mpid\n",
      "\u001b[0;31mKeyboardInterrupt\u001b[0m: "
     ]
    }
   ],
   "source": [
    "do_tests(executable=\"./exe/ppmd_encoder\", \n",
    "             inDir=\"dataset\", \n",
    "             filenames=test_file_names, \n",
    "             outDir=\"out/dataset-14-ppmd-improved-out-8-2-8\", \n",
    "             outPostfix=\"-encoded\",\n",
    "             numThreads=4, \n",
    "             additionalParams=[\"-b\", \"8\", \"-l\", \"off\", \"-c\", \"2\", \"-q\", \"8\"])"
   ]
  },
  {
   "cell_type": "code",
   "execution_count": 15,
   "id": "25d00dbe",
   "metadata": {},
   "outputs": [
    {
     "name": "stdout",
     "output_type": "stream",
     "text": [
      "Process files:  paper5 obj1 obj2 geo trans progp progl book2 paper1\n",
      "In file: dataset/paper5. \t Out file: out/dataset-ppma-out-16-4-2/paper5-encoded\n",
      "In file: dataset/obj1. \t Out file: out/dataset-ppma-out-16-4-2/obj1-encoded\n",
      "In file: dataset/obj2. \t Out file: out/dataset-ppma-out-16-4-2/obj2-encoded\n",
      "In file: dataset/geo. \t Out file: out/dataset-ppma-out-16-4-2/geo-encoded\n",
      "In file: dataset/trans. \t Out file: out/dataset-ppma-out-16-4-2/trans-encoded\n",
      "In file: dataset/progp. \t Out file: out/dataset-ppma-out-16-4-2/progp-encoded\n",
      "In file: dataset/progl. \t Out file: out/dataset-ppma-out-16-4-2/progl-encoded\n",
      "In file: dataset/book2. \t Out file: out/dataset-ppma-out-16-4-2/book2-encoded\n",
      "In file: dataset/paper1. \t Out file: out/dataset-ppma-out-16-4-2/paper1-encoded\n",
      "Process files:  news progc paper4 pic bib paper2 book1 paper3 paper6\n",
      "In file: dataset/news. \t Out file: out/dataset-ppma-out-16-4-2/news-encoded\n",
      "In file: dataset/progc. \t Out file: out/dataset-ppma-out-16-4-2/progc-encoded\n",
      "In file: dataset/paper4. \t Out file: out/dataset-ppma-out-16-4-2/paper4-encoded\n",
      "In file: dataset/pic. \t Out file: out/dataset-ppma-out-16-4-2/pic-encoded\n",
      "In file: dataset/bib. \t Out file: out/dataset-ppma-out-16-4-2/bib-encoded\n",
      "In file: dataset/paper2. \t Out file: out/dataset-ppma-out-16-4-2/paper2-encoded\n",
      "In file: dataset/book1. \t Out file: out/dataset-ppma-out-16-4-2/book1-encoded\n",
      "In file: dataset/paper3. \t Out file: out/dataset-ppma-out-16-4-2/paper3-encoded\n",
      "In file: dataset/paper6. \t Out file: out/dataset-ppma-out-16-4-2/paper6-encoded\n"
     ]
    }
   ],
   "source": [
    "do_tests(executable=\"./exe/ppma_encoder\", \n",
    "             inDir=\"dataset\", \n",
    "             filenames=test_file_names, \n",
    "             outDir=\"out/dataset-ppma-out-16-4-2\", \n",
    "             outPostfix=\"-encoded\",\n",
    "             numThreads=9, \n",
    "             additionalParams=[\"-b\", \"16\", \"-l\", \"off\", \"-c\", \"4\", \"-q\", \"2\"])"
   ]
  },
  {
   "cell_type": "code",
   "execution_count": 12,
   "id": "61318e30",
   "metadata": {},
   "outputs": [
    {
     "name": "stdout",
     "output_type": "stream",
     "text": [
      "Process files:  paper5-encoded obj1-encoded obj2-encoded geo-encoded trans-encoded progp-encoded progl-encoded book2-encoded paper1-encoded\n",
      "In file: out/dataset-ppma-out-8-6-4/paper5-encoded. \t Out file: out/dataset-ppma-decoded-8-6-4/paper5-encoded-decoded\n",
      "In file: out/dataset-ppma-out-8-6-4/obj1-encoded. \t Out file: out/dataset-ppma-decoded-8-6-4/obj1-encoded-decoded\n",
      "In file: out/dataset-ppma-out-8-6-4/obj2-encoded. \t Out file: out/dataset-ppma-decoded-8-6-4/obj2-encoded-decoded\n",
      "In file: out/dataset-ppma-out-8-6-4/geo-encoded. \t Out file: out/dataset-ppma-decoded-8-6-4/geo-encoded-decoded\n",
      "In file: out/dataset-ppma-out-8-6-4/trans-encoded. \t Out file: out/dataset-ppma-decoded-8-6-4/trans-encoded-decoded\n",
      "In file: out/dataset-ppma-out-8-6-4/progp-encoded. \t Out file: out/dataset-ppma-decoded-8-6-4/progp-encoded-decoded\n",
      "In file: out/dataset-ppma-out-8-6-4/progl-encoded. \t Out file: out/dataset-ppma-decoded-8-6-4/progl-encoded-decoded\n",
      "In file: out/dataset-ppma-out-8-6-4/book2-encoded. \t Out file: out/dataset-ppma-decoded-8-6-4/book2-encoded-decoded\n",
      "In file: out/dataset-ppma-out-8-6-4/paper1-encoded. \t Out file: out/dataset-ppma-decoded-8-6-4/paper1-encoded-decoded\n",
      "Process files:  news-encoded progc-encoded paper4-encoded pic-encoded bib-encoded paper2-encoded book1-encoded paper3-encoded paper6-encoded\n",
      "In file: out/dataset-ppma-out-8-6-4/news-encoded. \t Out file: out/dataset-ppma-decoded-8-6-4/news-encoded-decoded\n",
      "In file: out/dataset-ppma-out-8-6-4/progc-encoded. \t Out file: out/dataset-ppma-decoded-8-6-4/progc-encoded-decoded\n",
      "In file: out/dataset-ppma-out-8-6-4/paper4-encoded. \t Out file: out/dataset-ppma-decoded-8-6-4/paper4-encoded-decoded\n",
      "In file: out/dataset-ppma-out-8-6-4/pic-encoded. \t Out file: out/dataset-ppma-decoded-8-6-4/pic-encoded-decoded\n",
      "In file: out/dataset-ppma-out-8-6-4/bib-encoded. \t Out file: out/dataset-ppma-decoded-8-6-4/bib-encoded-decoded\n",
      "In file: out/dataset-ppma-out-8-6-4/paper2-encoded. \t Out file: out/dataset-ppma-decoded-8-6-4/paper2-encoded-decoded\n",
      "In file: out/dataset-ppma-out-8-6-4/book1-encoded. \t Out file: out/dataset-ppma-decoded-8-6-4/book1-encoded-decoded\n",
      "In file: out/dataset-ppma-out-8-6-4/paper3-encoded. \t Out file: out/dataset-ppma-decoded-8-6-4/paper3-encoded-decoded\n",
      "In file: out/dataset-ppma-out-8-6-4/paper6-encoded. \t Out file: out/dataset-ppma-decoded-8-6-4/paper6-encoded-decoded\n"
     ]
    }
   ],
   "source": [
    "test_file_names_decoded = [word + \"-encoded\" for word in test_file_names]\n",
    "do_tests(executable=\"./exe/ppma_decoder\",\n",
    "             inDir=\"out/dataset-ppma-out-8-6-4\",\n",
    "             filenames=test_file_names_decoded,\n",
    "             outDir=\"out/dataset-ppma-decoded-8-6-4\",\n",
    "             outPostfix=\"-decoded\",\n",
    "             numThreads=9,\n",
    "             additionalParams=[\"-l\", \"off\"])"
   ]
  },
  {
   "cell_type": "code",
   "execution_count": 9,
   "id": "032394eb",
   "metadata": {},
   "outputs": [
    {
     "name": "stdout",
     "output_type": "stream",
     "text": [
      "Process files:  obj1 obj2 geo trans progp progl book2\n",
      "In file: dataset/obj1. \t Out file: out/dataset-ppmd-plus11-out-8-8-4/obj1-encoded\n",
      "In file: dataset/obj2. \t Out file: out/dataset-ppmd-plus11-out-8-8-4/obj2-encoded\n",
      "In file: dataset/geo. \t Out file: out/dataset-ppmd-plus11-out-8-8-4/geo-encoded\n",
      "In file: dataset/trans. \t Out file: out/dataset-ppmd-plus11-out-8-8-4/trans-encoded\n",
      "In file: dataset/progp. \t Out file: out/dataset-ppmd-plus11-out-8-8-4/progp-encoded\n",
      "In file: dataset/progl. \t Out file: out/dataset-ppmd-plus11-out-8-8-4/progl-encoded\n",
      "In file: dataset/book2. \t Out file: out/dataset-ppmd-plus11-out-8-8-4/book2-encoded\n",
      "Process files:  paper1 news progc pic bib paper2 book1\n",
      "In file: dataset/paper1. \t Out file: out/dataset-ppmd-plus11-out-8-8-4/paper1-encoded\n",
      "In file: dataset/news. \t Out file: out/dataset-ppmd-plus11-out-8-8-4/news-encoded\n",
      "In file: dataset/progc. \t Out file: out/dataset-ppmd-plus11-out-8-8-4/progc-encoded\n",
      "In file: dataset/pic. \t Out file: out/dataset-ppmd-plus11-out-8-8-4/pic-encoded\n",
      "In file: dataset/bib. \t Out file: out/dataset-ppmd-plus11-out-8-8-4/bib-encoded\n",
      "In file: dataset/paper2. \t Out file: out/dataset-ppmd-plus11-out-8-8-4/paper2-encoded\n",
      "In file: dataset/book1. \t Out file: out/dataset-ppmd-plus11-out-8-8-4/book1-encoded\n"
     ]
    }
   ],
   "source": [
    "do_tests(executable=\"./exe/ppmd_plus_encoder\", \n",
    "             inDir=\"dataset\", \n",
    "             filenames=test_file_names, \n",
    "             outDir=\"out/dataset-ppmd-plus11-out-8-8-4\", \n",
    "             outPostfix=\"-encoded\",\n",
    "             numThreads=7, \n",
    "             additionalParams=[\"-b\", \"8\", \"-l\", \"off\", \"-c\", \"8\", \"-q\", \"4\"])"
   ]
  },
  {
   "cell_type": "code",
   "execution_count": 6,
   "id": "3ef35f61",
   "metadata": {},
   "outputs": [],
   "source": [
    "from collections import Counter\n",
    "from collections import defaultdict\n",
    "import math"
   ]
  },
  {
   "cell_type": "code",
   "execution_count": 13,
   "id": "548b1d58",
   "metadata": {},
   "outputs": [],
   "source": [
    "def estimate_seq_H(seq: list):\n",
    "    cnt = Counter(seq)\n",
    "    counts = cnt.values()\n",
    "    total = cnt.total()\n",
    "    return -sum([c / total * math.log2(c / total) for c in counts])"
   ]
  },
  {
   "cell_type": "code",
   "execution_count": 14,
   "id": "3a58c934",
   "metadata": {},
   "outputs": [],
   "source": [
    "def estimate_H(filename: str, bytesSize: int):\n",
    "    with open(filename, 'rb') as file:\n",
    "        ords = []\n",
    "        while w := file.read(bytesSize):\n",
    "            ords.append(int.from_bytes(w, 'big'))\n",
    "        return estimate_seq_H(ords)"
   ]
  },
  {
   "cell_type": "code",
   "execution_count": 15,
   "id": "680007ac",
   "metadata": {},
   "outputs": [
    {
     "name": "stdout",
     "output_type": "stream",
     "text": [
      "8.109799149888886\n"
     ]
    }
   ],
   "source": [
    "print(estimate_H(\"dataset/book1\", 2))"
   ]
  },
  {
   "cell_type": "code",
   "execution_count": 70,
   "id": "a392d707",
   "metadata": {},
   "outputs": [
    {
     "name": "stdout",
     "output_type": "stream",
     "text": [
      "bib\t5.201\t8.552\t10.75\n",
      "book1\t4.527\t8.11\t10.897\n",
      "book2\t4.793\t8.534\t11.224\n",
      "geo\t5.646\t9.174\t12.806\n",
      "news\t5.19\t9.268\t12.085\n",
      "obj1\t5.948\t9.121\t10.126\n",
      "obj2\t6.26\t8.906\t12.153\n",
      "paper1\t4.983\t8.61\t10.749\n",
      "paper2\t4.601\t8.101\t10.519\n",
      "pic\t1.21\t2.023\t2.639\n",
      "progc\t5.199\t8.77\t10.686\n",
      "progl\t4.77\t7.969\t9.922\n",
      "progp\t4.869\t8.031\t9.656\n",
      "trans\t5.533\t8.873\t10.695\n"
     ]
    }
   ],
   "source": [
    "for filename in sorted(test_file_names):\n",
    "    print(\"{}\\t{}\\t{}\\t{}\".format(filename,\n",
    "                          round(estimate_H(\"dataset/\" + filename, 1), 3),\n",
    "                          round(estimate_H(\"dataset/\" + filename, 2), 3),\n",
    "                          round(estimate_H(\"dataset/\" + filename, 3), 3))\n",
    "         )"
   ]
  },
  {
   "cell_type": "code",
   "execution_count": 55,
   "id": "aaccfb0e",
   "metadata": {},
   "outputs": [],
   "source": [
    "def estimate_H_cond(filename: str, bytesSize: int, condLen: int):\n",
    "    with open(filename, 'rb') as file:\n",
    "        ords = []\n",
    "        while w := file.read(bytesSize):\n",
    "            ords.append(int.from_bytes(w, 'big'))\n",
    "        cases = [(tuple(ords[i:i+condLen]), ords[i+condLen]) for i in range(len(ords) - condLen)]\n",
    "        casesMapping = defaultdict(list)\n",
    "        for case in cases:\n",
    "            condition, x = case\n",
    "            casesMapping[condition].append(x)\n",
    "        ret = 0\n",
    "        for case in casesMapping:\n",
    "            condition = case\n",
    "            x = casesMapping[condition]\n",
    "            cnt = Counter(x)\n",
    "            counts = list(cnt.values())\n",
    "            total = cnt.total()\n",
    "            px = sum(counts) / (len(ords) - condLen)\n",
    "            ret -= px * sum([c / total * math.log2(c / total) for c in counts])\n",
    "        return ret"
   ]
  },
  {
   "cell_type": "code",
   "execution_count": 65,
   "id": "3dfd447d",
   "metadata": {},
   "outputs": [
    {
     "data": {
      "text/plain": [
       "2.043554586666519"
      ]
     },
     "execution_count": 65,
     "metadata": {},
     "output_type": "execute_result"
    }
   ],
   "source": [
    "estimate_H_cond(\"dataset/progl\", 1, 2)"
   ]
  },
  {
   "cell_type": "code",
   "execution_count": 73,
   "id": "5435b5bc",
   "metadata": {},
   "outputs": [
    {
     "name": "stdout",
     "output_type": "stream",
     "text": [
      "bib\t3.364\t2.308\n",
      "book1\t3.585\t2.814\n",
      "book2\t3.745\t2.736\n",
      "geo\t4.264\t3.458\n",
      "news\t4.092\t2.923\n",
      "obj1\t3.464\t1.4\n",
      "obj2\t3.87\t2.265\n",
      "paper1\t3.646\t2.332\n",
      "paper2\t3.522\t2.514\n",
      "pic\t0.824\t0.705\n",
      "progc\t3.603\t2.134\n",
      "progl\t3.212\t2.044\n",
      "progp\t3.188\t1.755\n",
      "trans\t3.355\t1.93\n"
     ]
    }
   ],
   "source": [
    "for filename in sorted(test_file_names):\n",
    "    print(\"{}\\t{}\\t{}\".format(filename,\n",
    "                          round(estimate_H_cond(\"dataset/\" + filename, 1, 1), 3),\n",
    "                          round(estimate_H_cond(\"dataset/\" + filename, 1, 2), 3)))"
   ]
  },
  {
   "cell_type": "code",
   "execution_count": 77,
   "id": "a5aa79b6",
   "metadata": {},
   "outputs": [
    {
     "name": "stdout",
     "output_type": "stream",
     "text": [
      "Process files:  obj1 obj2 geo trans progp progl book2\n",
      "In file: dataset/obj1. \t Out file: out/numerical_test_out/obj1-numerical-encoded\n",
      "In file: dataset/obj2. \t Out file: out/numerical_test_out/obj2-numerical-encoded\n",
      "In file: dataset/geo. \t Out file: out/numerical_test_out/geo-numerical-encoded\n",
      "In file: dataset/trans. \t Out file: out/numerical_test_out/trans-numerical-encoded\n",
      "In file: dataset/progp. \t Out file: out/numerical_test_out/progp-numerical-encoded\n",
      "In file: dataset/progl. \t Out file: out/numerical_test_out/progl-numerical-encoded\n",
      "In file: dataset/book2. \t Out file: out/numerical_test_out/book2-numerical-encoded\n",
      "Process files:  paper1 news progc pic bib paper2 book1\n",
      "In file: dataset/paper1. \t Out file: out/numerical_test_out/paper1-numerical-encoded\n",
      "In file: dataset/news. \t Out file: out/numerical_test_out/news-numerical-encoded\n",
      "In file: dataset/progc. \t Out file: out/numerical_test_out/progc-numerical-encoded\n",
      "In file: dataset/pic. \t Out file: out/numerical_test_out/pic-numerical-encoded\n",
      "In file: dataset/bib. \t Out file: out/numerical_test_out/bib-numerical-encoded\n",
      "In file: dataset/paper2. \t Out file: out/numerical_test_out/paper2-numerical-encoded\n",
      "In file: dataset/book1. \t Out file: out/numerical_test_out/book1-numerical-encoded\n"
     ]
    }
   ],
   "source": [
    "do_tests(\"exe/numerical_encoder\", \"dataset\", test_file_names, \"out/numerical_test_out\", \"-numerical-encoded\",\n",
    "         7, [\"-l\", \"off\"])"
   ]
  },
  {
   "cell_type": "code",
   "execution_count": 93,
   "id": "0341c1d5",
   "metadata": {},
   "outputs": [
    {
     "name": "stdout",
     "output_type": "stream",
     "text": [
      "bib & 111261 & 5.212 & 72482\n",
      "book1 & 768771 & 4.529 & 435203\n",
      "book2 & 610856 & 4.795 & 366132\n",
      "geo & 102400 & 5.672 & 72601\n",
      "news & 377109 & 5.194 & 244817\n",
      "obj1 & 21504 & 6.057 & 16280\n",
      "obj2 & 246814 & 6.272 & 193488\n",
      "paper1 & 53161 & 5.007 & 33273\n",
      "paper2 & 82199 & 4.617 & 47434\n",
      "pic & 513216 & 1.213 & 77848\n",
      "progc & 39611 & 5.231 & 25901\n",
      "progl & 71646 & 4.787 & 42872\n",
      "progp & 49379 & 4.894 & 30205\n",
      "trans & 93695 & 5.548 & 64972\n"
     ]
    }
   ],
   "source": [
    "for filename in sorted(test_file_names):\n",
    "    origSize = stat(\"dataset/\" + filename).st_size\n",
    "    archSize = stat(\"out/numerical_test_out/\" + filename + \"-numerical-encoded\").st_size\n",
    "    print(\"{} & {} & {} & {}\".format(\n",
    "        filename,\n",
    "        origSize,\n",
    "        round(archSize / origSize * 8, 3),\n",
    "        archSize)\n",
    "    )"
   ]
  },
  {
   "cell_type": "code",
   "execution_count": 94,
   "id": "9da8d2f2",
   "metadata": {},
   "outputs": [
    {
     "name": "stdout",
     "output_type": "stream",
     "text": [
      "Process files:  obj1 obj2 geo trans progp progl book2\n",
      "In file: dataset/obj1. \t Out file: out/arithmetic_a_test_out_8/obj1\n",
      "In file: dataset/obj2. \t Out file: out/arithmetic_a_test_out_8/obj2\n",
      "In file: dataset/geo. \t Out file: out/arithmetic_a_test_out_8/geo\n",
      "In file: dataset/trans. \t Out file: out/arithmetic_a_test_out_8/trans\n",
      "In file: dataset/progp. \t Out file: out/arithmetic_a_test_out_8/progp\n",
      "In file: dataset/progl. \t Out file: out/arithmetic_a_test_out_8/progl\n",
      "In file: dataset/book2. \t Out file: out/arithmetic_a_test_out_8/book2\n",
      "Process files:  paper1 news progc pic bib paper2 book1\n",
      "In file: dataset/paper1. \t Out file: out/arithmetic_a_test_out_8/paper1\n",
      "In file: dataset/news. \t Out file: out/arithmetic_a_test_out_8/news\n",
      "In file: dataset/progc. \t Out file: out/arithmetic_a_test_out_8/progc\n",
      "In file: dataset/pic. \t Out file: out/arithmetic_a_test_out_8/pic\n",
      "In file: dataset/bib. \t Out file: out/arithmetic_a_test_out_8/bib\n",
      "In file: dataset/paper2. \t Out file: out/arithmetic_a_test_out_8/paper2\n",
      "In file: dataset/book1. \t Out file: out/arithmetic_a_test_out_8/book1\n",
      "Process files:  obj1 obj2 geo trans progp progl book2\n",
      "In file: dataset/obj1. \t Out file: out/arithmetic_a_test_out_16/obj1\n",
      "In file: dataset/obj2. \t Out file: out/arithmetic_a_test_out_16/obj2\n",
      "In file: dataset/geo. \t Out file: out/arithmetic_a_test_out_16/geo\n",
      "In file: dataset/trans. \t Out file: out/arithmetic_a_test_out_16/trans\n",
      "In file: dataset/progp. \t Out file: out/arithmetic_a_test_out_16/progp\n",
      "In file: dataset/progl. \t Out file: out/arithmetic_a_test_out_16/progl\n",
      "In file: dataset/book2. \t Out file: out/arithmetic_a_test_out_16/book2\n",
      "Process files:  paper1 news progc pic bib paper2 book1\n",
      "In file: dataset/paper1. \t Out file: out/arithmetic_a_test_out_16/paper1\n",
      "In file: dataset/news. \t Out file: out/arithmetic_a_test_out_16/news\n",
      "In file: dataset/progc. \t Out file: out/arithmetic_a_test_out_16/progc\n",
      "In file: dataset/pic. \t Out file: out/arithmetic_a_test_out_16/pic\n",
      "In file: dataset/bib. \t Out file: out/arithmetic_a_test_out_16/bib\n",
      "In file: dataset/paper2. \t Out file: out/arithmetic_a_test_out_16/paper2\n",
      "In file: dataset/book1. \t Out file: out/arithmetic_a_test_out_16/book1\n",
      "Process files:  obj1 obj2 geo trans progp progl book2\n",
      "In file: dataset/obj1. \t Out file: out/arithmetic_a_test_out_24/obj1\n",
      "In file: dataset/obj2. \t Out file: out/arithmetic_a_test_out_24/obj2\n",
      "In file: dataset/geo. \t Out file: out/arithmetic_a_test_out_24/geo\n",
      "In file: dataset/trans. \t Out file: out/arithmetic_a_test_out_24/trans\n",
      "In file: dataset/progp. \t Out file: out/arithmetic_a_test_out_24/progp\n",
      "In file: dataset/progl. \t Out file: out/arithmetic_a_test_out_24/progl\n",
      "In file: dataset/book2. \t Out file: out/arithmetic_a_test_out_24/book2\n",
      "Process files:  paper1 news progc pic bib paper2 book1\n",
      "In file: dataset/paper1. \t Out file: out/arithmetic_a_test_out_24/paper1\n",
      "In file: dataset/news. \t Out file: out/arithmetic_a_test_out_24/news\n",
      "In file: dataset/progc. \t Out file: out/arithmetic_a_test_out_24/progc\n",
      "In file: dataset/pic. \t Out file: out/arithmetic_a_test_out_24/pic\n",
      "In file: dataset/bib. \t Out file: out/arithmetic_a_test_out_24/bib\n",
      "In file: dataset/paper2. \t Out file: out/arithmetic_a_test_out_24/paper2\n",
      "In file: dataset/book1. \t Out file: out/arithmetic_a_test_out_24/book1\n"
     ]
    }
   ],
   "source": [
    "do_tests(\"exe/archiever_a_encoder\", \"dataset\", test_file_names, \"out/arithmetic_a_test_out_8\", \"\",\n",
    "         7, [\"-l\", \"off\", \"-b\", \"8\"])\n",
    "do_tests(\"exe/archiever_a_encoder\", \"dataset\", test_file_names, \"out/arithmetic_a_test_out_16\", \"\",\n",
    "         7, [\"-l\", \"off\", \"-b\", \"16\"])\n",
    "do_tests(\"exe/archiever_a_encoder\", \"dataset\", test_file_names, \"out/arithmetic_a_test_out_24\", \"\",\n",
    "         7, [\"-l\", \"off\", \"-b\", \"24\"])"
   ]
  },
  {
   "cell_type": "code",
   "execution_count": 96,
   "id": "0ec844a0",
   "metadata": {},
   "outputs": [
    {
     "name": "stdout",
     "output_type": "stream",
     "text": [
      "bib & 111261 & 5.21 & 72460\n",
      "book1 & 768771 & 4.529 & 435180\n",
      "book2 & 610856 & 4.795 & 366110\n",
      "geo & 102400 & 5.67 & 72579\n",
      "news & 377109 & 5.193 & 244794\n",
      "obj1 & 21504 & 6.048 & 16257\n",
      "obj2 & 246814 & 6.271 & 193465\n",
      "paper1 & 53161 & 5.004 & 33251\n",
      "paper2 & 82199 & 4.614 & 47412\n",
      "pic & 513216 & 1.213 & 77825\n",
      "progc & 39611 & 5.227 & 25879\n",
      "progl & 71646 & 4.785 & 42850\n",
      "progp & 49379 & 4.89 & 30183\n",
      "trans & 93695 & 5.546 & 64950\n"
     ]
    }
   ],
   "source": [
    "for filename in sorted(test_file_names):\n",
    "    origSize = stat(\"dataset/\" + filename).st_size\n",
    "    archSize = stat(\"out/arithmetic_a_test_out_8/\" + filename).st_size\n",
    "    print(\"{} & {} & {} & {}\".format(\n",
    "        filename,\n",
    "        origSize,\n",
    "        round(archSize / origSize * 8, 3),\n",
    "        archSize)\n",
    "    )"
   ]
  },
  {
   "cell_type": "code",
   "execution_count": 97,
   "id": "3df24b5e",
   "metadata": {},
   "outputs": [
    {
     "name": "stdout",
     "output_type": "stream",
     "text": [
      "bib & 111261 & 8.941 & 62175\n",
      "book1 & 768771 & 8.181 & 393085\n",
      "book2 & 610856 & 8.681 & 331410\n",
      "geo & 102400 & 9.82 & 62850\n",
      "news & 377109 & 9.583 & 225853\n",
      "obj1 & 21504 & 13.389 & 17995\n",
      "obj2 & 246814 & 9.676 & 149254\n",
      "paper1 & 53161 & 9.422 & 31305\n",
      "paper2 & 82199 & 8.542 & 43882\n",
      "pic & 513216 & 2.165 & 69429\n",
      "progc & 39611 & 9.92 & 24558\n",
      "progl & 71646 & 8.437 & 37778\n",
      "progp & 49379 & 8.841 & 27285\n",
      "trans & 93695 & 9.49 & 55570\n"
     ]
    }
   ],
   "source": [
    "for filename in sorted(test_file_names):\n",
    "    origSize = stat(\"dataset/\" + filename).st_size\n",
    "    archSize = stat(\"out/arithmetic_a_test_out_16/\" + filename).st_size\n",
    "    print(\"{} & {} & {} & {}\".format(\n",
    "        filename,\n",
    "        origSize,\n",
    "        round(archSize / origSize * 16, 3),\n",
    "        archSize)\n",
    "    )"
   ]
  },
  {
   "cell_type": "code",
   "execution_count": 98,
   "id": "4db289ca",
   "metadata": {},
   "outputs": [
    {
     "name": "stdout",
     "output_type": "stream",
     "text": [
      "bib & 111261 & 14.136 & 65531\n",
      "book1 & 768771 & 11.793 & 377746\n",
      "book2 & 610856 & 12.666 & 322383\n",
      "geo & 102400 & 23.571 & 100569\n",
      "news & 377109 & 15.335 & 240952\n",
      "obj1 & 21504 & 21.965 & 19681\n",
      "obj2 & 246814 & 17.592 & 180911\n",
      "paper1 & 53161 & 15.873 & 35159\n",
      "paper2 & 82199 & 13.893 & 47584\n",
      "pic & 513216 & 3.783 & 80889\n",
      "progc & 39611 & 17.066 & 28167\n",
      "progl & 71646 & 13.203 & 39415\n",
      "progp & 49379 & 14.112 & 29034\n",
      "trans & 93695 & 14.475 & 56508\n"
     ]
    }
   ],
   "source": [
    "for filename in sorted(test_file_names):\n",
    "    origSize = stat(\"dataset/\" + filename).st_size\n",
    "    archSize = stat(\"out/arithmetic_a_test_out_24/\" + filename).st_size\n",
    "    print(\"{} & {} & {} & {}\".format(\n",
    "        filename,\n",
    "        origSize,\n",
    "        round(archSize / origSize * 24, 3),\n",
    "        archSize)\n",
    "    )"
   ]
  },
  {
   "cell_type": "code",
   "execution_count": 99,
   "id": "65169661",
   "metadata": {},
   "outputs": [
    {
     "name": "stdout",
     "output_type": "stream",
     "text": [
      "Process files:  obj1 obj2 geo trans progp progl book2\n",
      "In file: dataset/obj1. \t Out file: out/arithmetic_d_test_out_8/obj1\n",
      "In file: dataset/obj2. \t Out file: out/arithmetic_d_test_out_8/obj2\n",
      "In file: dataset/geo. \t Out file: out/arithmetic_d_test_out_8/geo\n",
      "In file: dataset/trans. \t Out file: out/arithmetic_d_test_out_8/trans\n",
      "In file: dataset/progp. \t Out file: out/arithmetic_d_test_out_8/progp\n",
      "In file: dataset/progl. \t Out file: out/arithmetic_d_test_out_8/progl\n",
      "In file: dataset/book2. \t Out file: out/arithmetic_d_test_out_8/book2\n",
      "Process files:  paper1 news progc pic bib paper2 book1\n",
      "In file: dataset/paper1. \t Out file: out/arithmetic_d_test_out_8/paper1\n",
      "In file: dataset/news. \t Out file: out/arithmetic_d_test_out_8/news\n",
      "In file: dataset/progc. \t Out file: out/arithmetic_d_test_out_8/progc\n",
      "In file: dataset/pic. \t Out file: out/arithmetic_d_test_out_8/pic\n",
      "In file: dataset/bib. \t Out file: out/arithmetic_d_test_out_8/bib\n",
      "In file: dataset/paper2. \t Out file: out/arithmetic_d_test_out_8/paper2\n",
      "In file: dataset/book1. \t Out file: out/arithmetic_d_test_out_8/book1\n",
      "Process files:  obj1 obj2 geo trans progp progl book2\n",
      "In file: dataset/obj1. \t Out file: out/arithmetic_d_test_out_16/obj1\n",
      "In file: dataset/obj2. \t Out file: out/arithmetic_d_test_out_16/obj2\n",
      "In file: dataset/geo. \t Out file: out/arithmetic_d_test_out_16/geo\n",
      "In file: dataset/trans. \t Out file: out/arithmetic_d_test_out_16/trans\n",
      "In file: dataset/progp. \t Out file: out/arithmetic_d_test_out_16/progp\n",
      "In file: dataset/progl. \t Out file: out/arithmetic_d_test_out_16/progl\n",
      "In file: dataset/book2. \t Out file: out/arithmetic_d_test_out_16/book2\n",
      "Process files:  paper1 news progc pic bib paper2 book1\n",
      "In file: dataset/paper1. \t Out file: out/arithmetic_d_test_out_16/paper1\n",
      "In file: dataset/news. \t Out file: out/arithmetic_d_test_out_16/news\n",
      "In file: dataset/progc. \t Out file: out/arithmetic_d_test_out_16/progc\n",
      "In file: dataset/pic. \t Out file: out/arithmetic_d_test_out_16/pic\n",
      "In file: dataset/bib. \t Out file: out/arithmetic_d_test_out_16/bib\n",
      "In file: dataset/paper2. \t Out file: out/arithmetic_d_test_out_16/paper2\n",
      "In file: dataset/book1. \t Out file: out/arithmetic_d_test_out_16/book1\n",
      "Process files:  obj1 obj2 geo trans progp progl book2\n",
      "In file: dataset/obj1. \t Out file: out/arithmetic_d_test_out_24/obj1\n",
      "In file: dataset/obj2. \t Out file: out/arithmetic_d_test_out_24/obj2\n",
      "In file: dataset/geo. \t Out file: out/arithmetic_d_test_out_24/geo\n",
      "In file: dataset/trans. \t Out file: out/arithmetic_d_test_out_24/trans\n",
      "In file: dataset/progp. \t Out file: out/arithmetic_d_test_out_24/progp\n",
      "In file: dataset/progl. \t Out file: out/arithmetic_d_test_out_24/progl\n",
      "In file: dataset/book2. \t Out file: out/arithmetic_d_test_out_24/book2\n",
      "Process files:  paper1 news progc pic bib paper2 book1\n",
      "In file: dataset/paper1. \t Out file: out/arithmetic_d_test_out_24/paper1\n",
      "In file: dataset/news. \t Out file: out/arithmetic_d_test_out_24/news\n",
      "In file: dataset/progc. \t Out file: out/arithmetic_d_test_out_24/progc\n",
      "In file: dataset/pic. \t Out file: out/arithmetic_d_test_out_24/pic\n",
      "In file: dataset/bib. \t Out file: out/arithmetic_d_test_out_24/bib\n",
      "In file: dataset/paper2. \t Out file: out/arithmetic_d_test_out_24/paper2\n",
      "In file: dataset/book1. \t Out file: out/arithmetic_d_test_out_24/book1\n"
     ]
    }
   ],
   "source": [
    "do_tests(\"exe/archiever_d_encoder\", \"dataset\", test_file_names, \"out/arithmetic_d_test_out_8\", \"\",\n",
    "         7, [\"-l\", \"off\", \"-b\", \"8\"])\n",
    "do_tests(\"exe/archiever_d_encoder\", \"dataset\", test_file_names, \"out/arithmetic_d_test_out_16\", \"\",\n",
    "         7, [\"-l\", \"off\", \"-b\", \"16\"])\n",
    "do_tests(\"exe/archiever_d_encoder\", \"dataset\", test_file_names, \"out/arithmetic_d_test_out_24\", \"\",\n",
    "         7, [\"-l\", \"off\", \"-b\", \"24\"])"
   ]
  },
  {
   "cell_type": "code",
   "execution_count": 100,
   "id": "ce564ad5",
   "metadata": {},
   "outputs": [
    {
     "name": "stdout",
     "output_type": "stream",
     "text": [
      "bib & 111261 & 5.211 & 72471\n",
      "book1 & 768771 & 4.529 & 435196\n",
      "book2 & 610856 & 4.795 & 366128\n",
      "geo & 102400 & 5.664 & 72495\n",
      "news & 377109 & 5.193 & 244814\n",
      "obj1 & 21504 & 6.015 & 16169\n",
      "obj2 & 246814 & 6.268 & 193389\n",
      "paper1 & 53161 & 5.004 & 33250\n",
      "paper2 & 82199 & 4.614 & 47410\n",
      "pic & 513216 & 1.213 & 77786\n",
      "progc & 39611 & 5.227 & 25882\n",
      "progl & 71646 & 4.785 & 42852\n",
      "progp & 49379 & 4.89 & 30184\n",
      "trans & 93695 & 5.546 & 64956\n"
     ]
    }
   ],
   "source": [
    "for filename in sorted(test_file_names):\n",
    "    origSize = stat(\"dataset/\" + filename).st_size\n",
    "    archSize = stat(\"out/arithmetic_d_test_out_8/\" + filename).st_size\n",
    "    print(\"{} & {} & {} & {}\".format(\n",
    "        filename,\n",
    "        origSize,\n",
    "        round(archSize / origSize * 8, 3),\n",
    "        archSize)\n",
    "    )"
   ]
  },
  {
   "cell_type": "code",
   "execution_count": 101,
   "id": "7ae50307",
   "metadata": {},
   "outputs": [
    {
     "name": "stdout",
     "output_type": "stream",
     "text": [
      "bib & 111261 & 8.805 & 61227\n",
      "book1 & 768771 & 8.157 & 391947\n",
      "book2 & 610856 & 8.62 & 329104\n",
      "geo & 102400 & 9.563 & 61205\n",
      "news & 377109 & 9.438 & 222438\n",
      "obj1 & 21504 & 10.955 & 14723\n",
      "obj2 & 246814 & 9.229 & 142372\n",
      "paper1 & 53161 & 9.105 & 30251\n",
      "paper2 & 82199 & 8.384 & 43071\n",
      "pic & 513216 & 2.098 & 67309\n",
      "progc & 39611 & 9.445 & 23384\n",
      "progl & 71646 & 8.276 & 37059\n",
      "progp & 49379 & 8.53 & 26326\n",
      "trans & 93695 & 9.245 & 54139\n"
     ]
    }
   ],
   "source": [
    "for filename in sorted(test_file_names):\n",
    "    origSize = stat(\"dataset/\" + filename).st_size\n",
    "    archSize = stat(\"out/arithmetic_d_test_out_16/\" + filename).st_size\n",
    "    print(\"{} & {} & {} & {}\".format(\n",
    "        filename,\n",
    "        origSize,\n",
    "        round(archSize / origSize * 16, 3),\n",
    "        archSize)\n",
    "    )"
   ]
  },
  {
   "cell_type": "code",
   "execution_count": 102,
   "id": "31a38658",
   "metadata": {},
   "outputs": [
    {
     "name": "stdout",
     "output_type": "stream",
     "text": [
      "bib & 111261 & 12.856 & 59601\n",
      "book1 & 768771 & 11.451 & 366787\n",
      "book2 & 610856 & 12.065 & 307077\n",
      "geo & 102400 & 18.295 & 78058\n",
      "news & 377109 & 13.85 & 217620\n",
      "obj1 & 21504 & 17.206 & 15417\n",
      "obj2 & 246814 & 14.965 & 153900\n",
      "paper1 & 53161 & 13.993 & 30996\n",
      "paper2 & 82199 & 12.694 & 43475\n",
      "pic & 513216 & 3.28 & 70148\n",
      "progc & 39611 & 14.703 & 24267\n",
      "progl & 71646 & 12.071 & 36035\n",
      "progp & 49379 & 12.538 & 25796\n",
      "trans & 93695 & 13.064 & 51003\n"
     ]
    }
   ],
   "source": [
    "for filename in sorted(test_file_names):\n",
    "    origSize = stat(\"dataset/\" + filename).st_size\n",
    "    archSize = stat(\"out/arithmetic_d_test_out_24/\" + filename).st_size\n",
    "    print(\"{} & {} & {} & {}\".format(\n",
    "        filename,\n",
    "        origSize,\n",
    "        round(archSize / origSize * 24, 3),\n",
    "        archSize)\n",
    "    )"
   ]
  },
  {
   "cell_type": "code",
   "execution_count": 105,
   "id": "18f69015",
   "metadata": {},
   "outputs": [
    {
     "name": "stdout",
     "output_type": "stream",
     "text": [
      "Process files:  obj1 obj2 geo trans progp progl book2\n",
      "In file: dataset/obj1. \t Out file: out/contextual_a_test_out_8-6-4/obj1\n",
      "In file: dataset/obj2. \t Out file: out/contextual_a_test_out_8-6-4/obj2\n",
      "In file: dataset/geo. \t Out file: out/contextual_a_test_out_8-6-4/geo\n",
      "In file: dataset/trans. \t Out file: out/contextual_a_test_out_8-6-4/trans\n",
      "In file: dataset/progp. \t Out file: out/contextual_a_test_out_8-6-4/progp\n",
      "In file: dataset/progl. \t Out file: out/contextual_a_test_out_8-6-4/progl\n",
      "In file: dataset/book2. \t Out file: out/contextual_a_test_out_8-6-4/book2\n",
      "Process files:  paper1 news progc pic bib paper2 book1\n",
      "In file: dataset/paper1. \t Out file: out/contextual_a_test_out_8-6-4/paper1\n",
      "In file: dataset/news. \t Out file: out/contextual_a_test_out_8-6-4/news\n",
      "In file: dataset/progc. \t Out file: out/contextual_a_test_out_8-6-4/progc\n",
      "In file: dataset/pic. \t Out file: out/contextual_a_test_out_8-6-4/pic\n",
      "In file: dataset/bib. \t Out file: out/contextual_a_test_out_8-6-4/bib\n",
      "In file: dataset/paper2. \t Out file: out/contextual_a_test_out_8-6-4/paper2\n",
      "In file: dataset/book1. \t Out file: out/contextual_a_test_out_8-6-4/book1\n",
      "Process files:  obj1 obj2 geo trans progp progl book2\n",
      "In file: dataset/obj1. \t Out file: out/contextual_d_test_out_8-6-4/obj1\n",
      "In file: dataset/obj2. \t Out file: out/contextual_d_test_out_8-6-4/obj2\n",
      "In file: dataset/geo. \t Out file: out/contextual_d_test_out_8-6-4/geo\n",
      "In file: dataset/trans. \t Out file: out/contextual_d_test_out_8-6-4/trans\n",
      "In file: dataset/progp. \t Out file: out/contextual_d_test_out_8-6-4/progp\n",
      "In file: dataset/progl. \t Out file: out/contextual_d_test_out_8-6-4/progl\n",
      "In file: dataset/book2. \t Out file: out/contextual_d_test_out_8-6-4/book2\n",
      "Process files:  paper1 news progc pic bib paper2 book1\n",
      "In file: dataset/paper1. \t Out file: out/contextual_d_test_out_8-6-4/paper1\n",
      "In file: dataset/news. \t Out file: out/contextual_d_test_out_8-6-4/news\n",
      "In file: dataset/progc. \t Out file: out/contextual_d_test_out_8-6-4/progc\n",
      "In file: dataset/pic. \t Out file: out/contextual_d_test_out_8-6-4/pic\n",
      "In file: dataset/bib. \t Out file: out/contextual_d_test_out_8-6-4/bib\n",
      "In file: dataset/paper2. \t Out file: out/contextual_d_test_out_8-6-4/paper2\n",
      "In file: dataset/book1. \t Out file: out/contextual_d_test_out_8-6-4/book1\n"
     ]
    }
   ],
   "source": [
    "do_tests(\"exe/a_contextual_encoder\", \"dataset\", test_file_names, \"out/contextual_a_test_out_8-6-4\", \"\",\n",
    "         7, [\"-l\", \"off\", \"-b\", \"8\", \"-c\", \"6\", \"-q\", \"4\"])\n",
    "do_tests(\"exe/d_contextual_encoder\", \"dataset\", test_file_names, \"out/contextual_d_test_out_8-6-4\", \"\",\n",
    "         7, [\"-l\", \"off\", \"-b\", \"8\", \"-c\", \"6\", \"-q\", \"4\"])"
   ]
  },
  {
   "cell_type": "code",
   "execution_count": 106,
   "id": "7bd85ab7",
   "metadata": {},
   "outputs": [
    {
     "name": "stdout",
     "output_type": "stream",
     "text": [
      "bib & 111261 & 2.635 & 36649\n",
      "book1 & 768771 & 2.683 & 257789\n",
      "book2 & 610856 & 2.525 & 192824\n",
      "geo & 102400 & 6.462 & 82708\n",
      "news & 377109 & 3.206 & 151133\n",
      "obj1 & 21504 & 4.574 & 12295\n",
      "obj2 & 246814 & 3.21 & 99045\n",
      "paper1 & 53161 & 3.16 & 21001\n",
      "paper2 & 82199 & 2.99 & 30727\n",
      "pic & 513216 & 1.033 & 66269\n",
      "progc & 39611 & 3.246 & 16073\n",
      "progl & 71646 & 2.337 & 20932\n",
      "progp & 49379 & 2.261 & 13954\n",
      "trans & 93695 & 2.103 & 24626\n"
     ]
    }
   ],
   "source": [
    "for filename in sorted(test_file_names):\n",
    "    origSize = stat(\"dataset/\" + filename).st_size\n",
    "    archSize = stat(\"out/contextual_a_test_out_8-6-4/\" + filename).st_size\n",
    "    print(\"{} & {} & {} & {}\".format(\n",
    "        filename,\n",
    "        origSize,\n",
    "        round(archSize / origSize * 8, 3),\n",
    "        archSize)\n",
    "    )"
   ]
  },
  {
   "cell_type": "code",
   "execution_count": 107,
   "id": "37f4f6fa",
   "metadata": {},
   "outputs": [
    {
     "name": "stdout",
     "output_type": "stream",
     "text": [
      "bib & 111261 & 2.596 & 36107\n",
      "book1 & 768771 & 2.671 & 256667\n",
      "book2 & 610856 & 2.507 & 191445\n",
      "geo & 102400 & 5.53 & 70785\n",
      "news & 377109 & 3.135 & 147789\n",
      "obj1 & 21504 & 4.273 & 11487\n",
      "obj2 & 246814 & 3.107 & 95846\n",
      "paper1 & 53161 & 3.109 & 20657\n",
      "paper2 & 82199 & 2.956 & 30372\n",
      "pic & 513216 & 1.0 & 64183\n",
      "progc & 39611 & 3.167 & 15680\n",
      "progl & 71646 & 2.316 & 20743\n",
      "progp & 49379 & 2.23 & 13766\n",
      "trans & 93695 & 2.082 & 24386\n"
     ]
    }
   ],
   "source": [
    "for filename in sorted(test_file_names):\n",
    "    origSize = stat(\"dataset/\" + filename).st_size\n",
    "    archSize = stat(\"out/contextual_d_test_out_8-6-4/\" + filename).st_size\n",
    "    print(\"{} & {} & {} & {}\".format(\n",
    "        filename,\n",
    "        origSize,\n",
    "        round(archSize / origSize * 8, 3),\n",
    "        archSize)\n",
    "    )"
   ]
  },
  {
   "cell_type": "code",
   "execution_count": 115,
   "id": "149169dd",
   "metadata": {},
   "outputs": [
    {
     "name": "stdout",
     "output_type": "stream",
     "text": [
      "Process files:  obj1 obj2 geo trans progp progl book2\n",
      "In file: dataset/obj1. \t Out file: out/contextual_d_plus_test_out_8-8-4/obj1\n",
      "In file: dataset/obj2. \t Out file: out/contextual_d_plus_test_out_8-8-4/obj2\n",
      "In file: dataset/geo. \t Out file: out/contextual_d_plus_test_out_8-8-4/geo\n",
      "In file: dataset/trans. \t Out file: out/contextual_d_plus_test_out_8-8-4/trans\n",
      "In file: dataset/progp. \t Out file: out/contextual_d_plus_test_out_8-8-4/progp\n",
      "In file: dataset/progl. \t Out file: out/contextual_d_plus_test_out_8-8-4/progl\n",
      "In file: dataset/book2. \t Out file: out/contextual_d_plus_test_out_8-8-4/book2\n",
      "Process files:  paper1 news progc pic bib paper2 book1\n",
      "In file: dataset/paper1. \t Out file: out/contextual_d_plus_test_out_8-8-4/paper1\n",
      "In file: dataset/news. \t Out file: out/contextual_d_plus_test_out_8-8-4/news\n",
      "In file: dataset/progc. \t Out file: out/contextual_d_plus_test_out_8-8-4/progc\n",
      "In file: dataset/pic. \t Out file: out/contextual_d_plus_test_out_8-8-4/pic\n",
      "In file: dataset/bib. \t Out file: out/contextual_d_plus_test_out_8-8-4/bib\n",
      "In file: dataset/paper2. \t Out file: out/contextual_d_plus_test_out_8-8-4/paper2\n",
      "In file: dataset/book1. \t Out file: out/contextual_d_plus_test_out_8-8-4/book1\n"
     ]
    }
   ],
   "source": [
    "do_tests(\"exe/d_contextual_encoder_improved\", \"dataset\",\n",
    "         test_file_names, \"out/contextual_d_plus_test_out_8-8-4\", \"\",\n",
    "         7, [\"-l\", \"off\", \"-b\", \"8\", \"-c\", \"8\", \"-q\", \"4\"])"
   ]
  },
  {
   "cell_type": "code",
   "execution_count": 116,
   "id": "9c8822fc",
   "metadata": {},
   "outputs": [
    {
     "name": "stdout",
     "output_type": "stream",
     "text": [
      "Process files:  obj1 obj2 geo trans progp progl book2\n",
      "In file: dataset/obj1. \t Out file: out/contextual_a_plus_test_out_8-8-4/obj1\n",
      "In file: dataset/obj2. \t Out file: out/contextual_a_plus_test_out_8-8-4/obj2\n",
      "In file: dataset/geo. \t Out file: out/contextual_a_plus_test_out_8-8-4/geo\n",
      "In file: dataset/trans. \t Out file: out/contextual_a_plus_test_out_8-8-4/trans\n",
      "In file: dataset/progp. \t Out file: out/contextual_a_plus_test_out_8-8-4/progp\n",
      "In file: dataset/progl. \t Out file: out/contextual_a_plus_test_out_8-8-4/progl\n",
      "In file: dataset/book2. \t Out file: out/contextual_a_plus_test_out_8-8-4/book2\n",
      "Process files:  paper1 news progc pic bib paper2 book1\n",
      "In file: dataset/paper1. \t Out file: out/contextual_a_plus_test_out_8-8-4/paper1\n",
      "In file: dataset/news. \t Out file: out/contextual_a_plus_test_out_8-8-4/news\n",
      "In file: dataset/progc. \t Out file: out/contextual_a_plus_test_out_8-8-4/progc\n",
      "In file: dataset/pic. \t Out file: out/contextual_a_plus_test_out_8-8-4/pic\n",
      "In file: dataset/bib. \t Out file: out/contextual_a_plus_test_out_8-8-4/bib\n",
      "In file: dataset/paper2. \t Out file: out/contextual_a_plus_test_out_8-8-4/paper2\n",
      "In file: dataset/book1. \t Out file: out/contextual_a_plus_test_out_8-8-4/book1\n"
     ]
    }
   ],
   "source": [
    "do_tests(\"exe/a_contextual_encoder_improved\", \"dataset\",\n",
    "         test_file_names, \"out/contextual_a_plus_test_out_8-8-4\", \"\",\n",
    "         7, [\"-l\", \"off\", \"-b\", \"8\", \"-c\", \"8\", \"-q\", \"4\"])"
   ]
  },
  {
   "cell_type": "code",
   "execution_count": 117,
   "id": "25f56870",
   "metadata": {},
   "outputs": [
    {
     "name": "stdout",
     "output_type": "stream",
     "text": [
      "bib & 111261 & 2.504 & 34818\n",
      "book1 & 768771 & 2.633 & 253031\n",
      "book2 & 610856 & 2.402 & 183444\n",
      "geo & 102400 & 4.998 & 63972\n",
      "news & 377109 & 3.082 & 145265\n",
      "obj1 & 21504 & 4.3 & 11559\n",
      "obj2 & 246814 & 3.031 & 93512\n",
      "paper1 & 53161 & 3.069 & 20397\n",
      "paper2 & 82199 & 2.917 & 29974\n",
      "pic & 513216 & 0.944 & 60582\n",
      "progc & 39611 & 3.107 & 15384\n",
      "progl & 71646 & 2.332 & 20887\n",
      "progp & 49379 & 2.233 & 13782\n",
      "trans & 93695 & 2.158 & 25273\n"
     ]
    }
   ],
   "source": [
    "for filename in sorted(test_file_names):\n",
    "    origSize = stat(\"dataset/\" + filename).st_size\n",
    "    archSize = stat(\"out/contextual_d_plus_test_out_8-8-4/\" + filename).st_size\n",
    "    print(\"{} & {} & {} & {}\".format(\n",
    "        filename,\n",
    "        origSize,\n",
    "        round(archSize / origSize * 8, 3),\n",
    "        archSize)\n",
    "    )"
   ]
  },
  {
   "cell_type": "code",
   "execution_count": 118,
   "id": "636a776d",
   "metadata": {},
   "outputs": [
    {
     "name": "stdout",
     "output_type": "stream",
     "text": [
      "bib & 111261 & 2.553 & 35502\n",
      "book1 & 768771 & 2.66 & 255617\n",
      "book2 & 610856 & 2.431 & 185640\n",
      "geo & 102400 & 6.011 & 76946\n",
      "news & 377109 & 3.18 & 149917\n",
      "obj1 & 21504 & 4.778 & 12842\n",
      "obj2 & 246814 & 3.195 & 98579\n",
      "paper1 & 53161 & 3.133 & 20822\n",
      "paper2 & 82199 & 2.967 & 30489\n",
      "pic & 513216 & 0.996 & 63903\n",
      "progc & 39611 & 3.2 & 15842\n",
      "progl & 71646 & 2.349 & 21033\n",
      "progp & 49379 & 2.264 & 13975\n",
      "trans & 93695 & 2.171 & 25423\n"
     ]
    }
   ],
   "source": [
    "for filename in sorted(test_file_names):\n",
    "    origSize = stat(\"dataset/\" + filename).st_size\n",
    "    archSize = stat(\"out/contextual_a_plus_test_out_8-8-4/\" + filename).st_size\n",
    "    print(\"{} & {} & {} & {}\".format(\n",
    "        filename,\n",
    "        origSize,\n",
    "        round(archSize / origSize * 8, 3),\n",
    "        archSize)\n",
    "    )"
   ]
  }
 ],
 "metadata": {
  "kernelspec": {
   "display_name": "Python 3 (ipykernel)",
   "language": "python",
   "name": "python3"
  },
  "language_info": {
   "codemirror_mode": {
    "name": "ipython",
    "version": 3
   },
   "file_extension": ".py",
   "mimetype": "text/x-python",
   "name": "python",
   "nbconvert_exporter": "python",
   "pygments_lexer": "ipython3",
   "version": "3.10.9"
  }
 },
 "nbformat": 4,
 "nbformat_minor": 5
}
